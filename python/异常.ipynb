{
 "cells": [
  {
   "cell_type": "markdown",
   "metadata": {},
   "source": [
    "### 异常是指程序运行时引发的错误，引发错误的原因有很多，例如除零、下标越界、文件不存在、网络异常、类型错误、名字错误、字典键错误、磁盘空间不足，等等。\n",
    "#### 如果这些错误得不到正确的处理将会导致程序终止运行，而合理地使用异常处理结构可以使得程序更加健壮，具有更强的容错性，不会因为用户不小心的错误输入或其他运行时原因而造成程序终止。也可以使用异常处理结构为用户提供更加友好的提示。"
   ]
  },
  {
   "cell_type": "markdown",
   "metadata": {},
   "source": [
    "### 异常表现形式："
   ]
  },
  {
   "cell_type": "code",
   "execution_count": 1,
   "metadata": {},
   "outputs": [
    {
     "ename": "ZeroDivisionError",
     "evalue": "division by zero",
     "output_type": "error",
     "traceback": [
      "\u001b[1;31m---------------------------------------------------------------------------\u001b[0m",
      "\u001b[1;31mZeroDivisionError\u001b[0m                         Traceback (most recent call last)",
      "\u001b[1;32m<ipython-input-1-f6cc6d14333b>\u001b[0m in \u001b[0;36m<module>\u001b[1;34m\u001b[0m\n\u001b[1;32m----> 1\u001b[1;33m \u001b[1;36m3\u001b[0m\u001b[1;33m/\u001b[0m\u001b[1;36m0\u001b[0m\u001b[1;33m\u001b[0m\u001b[1;33m\u001b[0m\u001b[0m\n\u001b[0m",
      "\u001b[1;31mZeroDivisionError\u001b[0m: division by zero"
     ]
    }
   ],
   "source": [
    "3/0"
   ]
  },
  {
   "cell_type": "code",
   "execution_count": 2,
   "metadata": {},
   "outputs": [
    {
     "ename": "TypeError",
     "evalue": "can only concatenate str (not \"int\") to str",
     "output_type": "error",
     "traceback": [
      "\u001b[1;31m---------------------------------------------------------------------------\u001b[0m",
      "\u001b[1;31mTypeError\u001b[0m                                 Traceback (most recent call last)",
      "\u001b[1;32m<ipython-input-2-d64ed49d0894>\u001b[0m in \u001b[0;36m<module>\u001b[1;34m\u001b[0m\n\u001b[1;32m----> 1\u001b[1;33m \u001b[1;34m'a'\u001b[0m\u001b[1;33m+\u001b[0m\u001b[1;36m2\u001b[0m\u001b[1;33m\u001b[0m\u001b[1;33m\u001b[0m\u001b[0m\n\u001b[0m",
      "\u001b[1;31mTypeError\u001b[0m: can only concatenate str (not \"int\") to str"
     ]
    }
   ],
   "source": [
    "'a'+2"
   ]
  },
  {
   "cell_type": "code",
   "execution_count": 3,
   "metadata": {},
   "outputs": [
    {
     "ename": "NameError",
     "evalue": "name 'testStr' is not defined",
     "output_type": "error",
     "traceback": [
      "\u001b[1;31m---------------------------------------------------------------------------\u001b[0m",
      "\u001b[1;31mNameError\u001b[0m                                 Traceback (most recent call last)",
      "\u001b[1;32m<ipython-input-3-8f506dec36ba>\u001b[0m in \u001b[0;36m<module>\u001b[1;34m\u001b[0m\n\u001b[1;32m----> 1\u001b[1;33m \u001b[0mprint\u001b[0m\u001b[1;33m(\u001b[0m\u001b[0mtestStr\u001b[0m\u001b[1;33m)\u001b[0m\u001b[1;33m\u001b[0m\u001b[1;33m\u001b[0m\u001b[0m\n\u001b[0m",
      "\u001b[1;31mNameError\u001b[0m: name 'testStr' is not defined"
     ]
    }
   ],
   "source": [
    "print(testStr)"
   ]
  },
  {
   "cell_type": "markdown",
   "metadata": {},
   "source": [
    "### 异常处理结构\n",
    "#### 1. try...except...\n",
    "##### 其中try子句中的代码块包含可能会引发异常的语句，而except子句则用来捕捉相应的异常。\n",
    "##### 如果try子句中的代码引发异常并被except子句捕捉，就执行except子句的代码块；\n",
    "##### 如果try中的代码块没有出现异常就继续往下执行异常处理结构后面的代码；\n",
    "##### 如果出现异常但没有被except捕获，继续往外层抛出，如果所有层都没有捕获并处理该异常，程序崩溃并将该异常呈现给最终用户。\n",
    "##### 该结构语法如下：\n",
    "\n",
    "try:\n",
    "    #可能会引发异常的代码，先执行一下试试\n",
    "except 异常类名称:\n",
    "    #如果try中的代码抛出异常并被except捕捉，就执行这里的代码"
   ]
  },
  {
   "cell_type": "code",
   "execution_count": 2,
   "metadata": {},
   "outputs": [
    {
     "name": "stdout",
     "output_type": "stream",
     "text": [
      "请输入被除数：6\n",
      "请输入除数：0\n",
      "除数不能为0\n"
     ]
    }
   ],
   "source": [
    "a = int(input(\"请输入被除数：\"))\n",
    "b = int(input(\"请输入除数：\"))\n",
    "try:\n",
    "    res = a/b\n",
    "    print(res)\n",
    "except ZeroDivisionError:\n",
    "    print(\"除数不能为0\")"
   ]
  },
  {
   "cell_type": "code",
   "execution_count": 2,
   "metadata": {},
   "outputs": [
    {
     "name": "stdout",
     "output_type": "stream",
     "text": [
      "请输入被除数：5\n",
      "请输入除数：0\n",
      "division by zero\n"
     ]
    }
   ],
   "source": [
    "a = int(input(\"请输入被除数：\"))\n",
    "b = int(input(\"请输入除数：\"))\n",
    "try:\n",
    "    res = a/b\n",
    "    print(res)\n",
    "except ZeroDivisionError as e: #想知道当前异常的内容\n",
    "    print(e)"
   ]
  },
  {
   "cell_type": "markdown",
   "metadata": {},
   "source": [
    "#### 2. 捕获多个异常"
   ]
  },
  {
   "cell_type": "code",
   "execution_count": 4,
   "metadata": {},
   "outputs": [
    {
     "name": "stdout",
     "output_type": "stream",
     "text": [
      "请输入被除数：6\n",
      "请输入除数：0\n",
      "division by zero\n"
     ]
    }
   ],
   "source": [
    "try:\n",
    "    a = int(input(\"请输入被除数：\"))\n",
    "    b = int(input(\"请输入除数：\"))\n",
    "    res = a/b\n",
    "    print(res)\n",
    "except ValueError as e: #有优先级的异常捕获方式\n",
    "    print(e)\n",
    "except ZeroDivisionError as e: \n",
    "    print(e)\n",
    "except Exception as e:\n",
    "    print(e)"
   ]
  },
  {
   "cell_type": "markdown",
   "metadata": {},
   "source": [
    "#### 3. try...except...else...\n",
    "##### 如果try中的代码抛出了异常并且被except语句捕捉则执行相应的异常处理代码，这种情况下就不会执行else中的代码；\n",
    "##### 如果try中的代码没有引发异常，则执行else块的代码。\n",
    "##### 该结构的语法如下：\n",
    "try:\n",
    "    #可能会引发异常的代码\n",
    "except Exception [ as reason]:\n",
    "    #用来处理异常的代码\n",
    "else:\n",
    "    #如果try子句中的代码没有引发异常，就继续执行这里的代码"
   ]
  },
  {
   "cell_type": "code",
   "execution_count": null,
   "metadata": {},
   "outputs": [],
   "source": [
    "try:\n",
    "    a = int(input(\"请输入被除数：\"))\n",
    "    b = int(input(\"请输入除数：\"))\n",
    "    res = a/b\n",
    "except ValueError as e: #有优先级的异常捕获方式\n",
    "    print(e)\n",
    "except ZeroDivisionError as e: \n",
    "    print(e)\n",
    "else: #将没有异常的时候要执行的代码放到else后面\n",
    "    print(res)"
   ]
  },
  {
   "cell_type": "code",
   "execution_count": null,
   "metadata": {},
   "outputs": [
    {
     "name": "stdout",
     "output_type": "stream",
     "text": [
      "请输入英里数：y\n",
      "你输入了非数字字符\n",
      "请输入英里数：5\n",
      "5英里等于8.04672公里\n"
     ]
    }
   ],
   "source": [
    "while True:\n",
    "    try:\n",
    "        miles = input(\"请输入英里数：\")\n",
    "        km = int(miles) * 1.609344\n",
    "    except ValueError:\n",
    "        print(\"你输入了非数字字符\")\n",
    "    else:\n",
    "        print(f'{miles}英里等于{km}公里')"
   ]
  },
  {
   "cell_type": "markdown",
   "metadata": {},
   "source": [
    "#### 4. try...except...finally...\n",
    "##### 在这种结构中，无论try中的代码是否发生异常，也不管抛出的异常有没有被except语句捕获，finally子句中的代码总是会得到执行。\n",
    "##### 该结构语法为：\n",
    "\n",
    "try:\n",
    "    #可能会引发异常的代码\n",
    "except Exception [ as reason]:\n",
    "    #处理异常的代码\n",
    "finally:\n",
    "    #无论try子句中的代码是否引发异常，都会执行这里的代码"
   ]
  },
  {
   "cell_type": "code",
   "execution_count": 2,
   "metadata": {},
   "outputs": [
    {
     "name": "stdout",
     "output_type": "stream",
     "text": [
      "请输入被除数：6\n",
      "请输入除数：a\n",
      "invalid literal for int() with base 10: 'a'\n",
      "我进行了除法运算\n"
     ]
    }
   ],
   "source": [
    "try:\n",
    "    a = int(input(\"请输入被除数：\"))\n",
    "    b = int(input(\"请输入除数：\"))\n",
    "    res = a/b\n",
    "except ValueError as e: \n",
    "    print(e)\n",
    "except ZeroDivisionError as e: \n",
    "    print(e)\n",
    "finally:\n",
    "    print(\"我进行了除法运算\")"
   ]
  },
  {
   "cell_type": "markdown",
   "metadata": {},
   "source": [
    "#### 5. 可以捕捉多种异常的异常处理结构\n",
    "##### 一旦try子句中的代码抛出了异常，就按顺序依次检查与哪一个except子句匹配，如果某个except捕捉到了异常，其他的except子句将不会再尝试捕捉异常。该结构类似于多分支选择结构，\n",
    "##### 语法格式为：\n",
    "\n",
    "try:\n",
    "    #可能会引发异常的代码\n",
    "except Exception1:\n",
    "    #处理异常类型1的代码\n",
    "except Exception2:\n",
    "    #处理异常类型2的代码\n",
    "except Exception3:\n",
    "    #处理异常类型3的代码\n",
    "..."
   ]
  },
  {
   "cell_type": "code",
   "execution_count": 5,
   "metadata": {},
   "outputs": [
    {
     "name": "stdout",
     "output_type": "stream",
     "text": [
      "请输入被除数：9\n",
      "请输入除数：0\n",
      "division by zero\n",
      "我进行了除法运算\n"
     ]
    }
   ],
   "source": [
    "try:\n",
    "    a = int(input(\"请输入被除数：\"))\n",
    "    b = int(input(\"请输入除数：\"))\n",
    "    res = a/b\n",
    "except ValueError as e: # 将异常类的实例对象命名为e\n",
    "    print(e) # 打印当前异常内容\n",
    "except ZeroDivisionError as e:\n",
    "    print(e)\n",
    "except Exception as e:\n",
    "    print(e)\n",
    "else: #若try语句中没有异常，则执行此段代码\n",
    "    print(res)\n",
    "#try-finally\n",
    "finally: #无论是否正常退出或者发生异常，都要执行的。\n",
    "    print(\"我进行了除法运算\")"
   ]
  },
  {
   "cell_type": "code",
   "execution_count": 7,
   "metadata": {},
   "outputs": [
    {
     "name": "stdout",
     "output_type": "stream",
     "text": [
      "3.3333333333333335\n",
      "No Error\n",
      "executing finally clause\n"
     ]
    }
   ],
   "source": [
    "# 同时包含else子句、finally子句和多个except子句的异常处理结构\n",
    "def div(x, y):\n",
    "    try:\n",
    "        print(x / y)\n",
    "    except ZeroDivisionError:\n",
    "        print('ZeroDivisionError')\n",
    "    except TypeError:\n",
    "        print('TypeError')\n",
    "    else:\n",
    "        print('No Error')\n",
    "    finally:\n",
    "        print(\"executing finally clause\")\n",
    "        \n",
    "div(5,1.5)"
   ]
  },
  {
   "cell_type": "markdown",
   "metadata": {},
   "source": [
    "### 6. raise语句显式地引发异常\n",
    "语法：raise Exception(args)"
   ]
  },
  {
   "cell_type": "code",
   "execution_count": 10,
   "metadata": {},
   "outputs": [
    {
     "name": "stdout",
     "output_type": "stream",
     "text": [
      "请输入被除数：5\n",
      "请输入除数：e\n",
      "invalid literal for int() with base 10: 'e'\n"
     ]
    }
   ],
   "source": [
    "try:\n",
    "    a = int(input(\"请输入被除数：\"))\n",
    "    b = int(input(\"请输入除数：\"))\n",
    "    if b ==0:\n",
    "        raise ValueError(\"除数不能为0!!!\") #显式地引发异常\n",
    "    res = a/b\n",
    "    print(res)\n",
    "except Exception as e: \n",
    "    print(e)\n"
   ]
  },
  {
   "cell_type": "markdown",
   "metadata": {},
   "source": [
    "### 7. 断言与上下文管理语句"
   ]
  },
  {
   "cell_type": "markdown",
   "metadata": {},
   "source": [
    "#### 断言语句的语法是：\n",
    "  \n",
    " assert expression[, reason] \n",
    "\n",
    " 当判断表达式expression为真时，什么都不做；如果表达式为假，则抛出异常。 \n",
    "assert语句一般用于开发程序时对特定必须满足的条件进行验证，仅当__debug__为True时有效。"
   ]
  },
  {
   "cell_type": "code",
   "execution_count": 13,
   "metadata": {},
   "outputs": [
    {
     "ename": "AssertionError",
     "evalue": "a must be equal to b",
     "output_type": "error",
     "traceback": [
      "\u001b[1;31m---------------------------------------------------------------------------\u001b[0m",
      "\u001b[1;31mAssertionError\u001b[0m                            Traceback (most recent call last)",
      "\u001b[1;32m<ipython-input-13-1f2d87a51e69>\u001b[0m in \u001b[0;36m<module>\u001b[1;34m\u001b[0m\n\u001b[0;32m      1\u001b[0m \u001b[0ma\u001b[0m \u001b[1;33m=\u001b[0m \u001b[1;36m3\u001b[0m\u001b[1;33m\u001b[0m\u001b[1;33m\u001b[0m\u001b[0m\n\u001b[0;32m      2\u001b[0m \u001b[0mb\u001b[0m \u001b[1;33m=\u001b[0m \u001b[1;36m5\u001b[0m\u001b[1;33m\u001b[0m\u001b[1;33m\u001b[0m\u001b[0m\n\u001b[1;32m----> 3\u001b[1;33m \u001b[1;32massert\u001b[0m \u001b[0ma\u001b[0m\u001b[1;33m==\u001b[0m\u001b[0mb\u001b[0m\u001b[1;33m,\u001b[0m \u001b[1;34m'a must be equal to b'\u001b[0m\u001b[1;33m\u001b[0m\u001b[1;33m\u001b[0m\u001b[0m\n\u001b[0m",
      "\u001b[1;31mAssertionError\u001b[0m: a must be equal to b"
     ]
    }
   ],
   "source": [
    "a = 3\n",
    "b = 5\n",
    "assert a==b, 'a must be equal to b'\n"
   ]
  },
  {
   "cell_type": "code",
   "execution_count": 15,
   "metadata": {},
   "outputs": [
    {
     "name": "stdout",
     "output_type": "stream",
     "text": [
      "AssertionError:a must be equal to b\n"
     ]
    }
   ],
   "source": [
    "a = 3\n",
    "b = 5\n",
    "try:\n",
    "    assert a==b, 'a must be equal to b'\n",
    "except AssertionError as reason:\n",
    "    print('%s:%s'%(reason.__class__.__name__, reason))"
   ]
  },
  {
   "cell_type": "markdown",
   "metadata": {},
   "source": [
    "### with as 代码块自动管理资源\n",
    "#### 使用with自动关闭资源，可以在代码块执行完毕后还原进入该代码块时的现场。\n",
    "不论何种原因跳出with块，不论是否发生异常，总能保证文件被正确关闭，资源被正确释放。\n",
    "\n",
    "with context_expr [as var]:\n",
    "    with块 "
   ]
  },
  {
   "cell_type": "code",
   "execution_count": 14,
   "metadata": {},
   "outputs": [
    {
     "ename": "ZeroDivisionError",
     "evalue": "division by zero",
     "output_type": "error",
     "traceback": [
      "\u001b[1;31m---------------------------------------------------------------------------\u001b[0m",
      "\u001b[1;31mZeroDivisionError\u001b[0m                         Traceback (most recent call last)",
      "\u001b[1;32m<ipython-input-14-2fb7ececa34a>\u001b[0m in \u001b[0;36m<module>\u001b[1;34m\u001b[0m\n\u001b[0;32m      3\u001b[0m     \u001b[0mfp\u001b[0m\u001b[1;33m.\u001b[0m\u001b[0mwrite\u001b[0m\u001b[1;33m(\u001b[0m\u001b[0mstr\u001b[0m\u001b[1;33m(\u001b[0m\u001b[0mi\u001b[0m\u001b[1;33m)\u001b[0m\u001b[1;33m)\u001b[0m\u001b[1;33m\u001b[0m\u001b[1;33m\u001b[0m\u001b[0m\n\u001b[0;32m      4\u001b[0m     \u001b[1;32mif\u001b[0m \u001b[0mi\u001b[0m \u001b[1;33m==\u001b[0m \u001b[1;36m6\u001b[0m\u001b[1;33m:\u001b[0m\u001b[1;33m\u001b[0m\u001b[1;33m\u001b[0m\u001b[0m\n\u001b[1;32m----> 5\u001b[1;33m         \u001b[1;36m1\u001b[0m\u001b[1;33m/\u001b[0m\u001b[1;36m0\u001b[0m\u001b[1;33m\u001b[0m\u001b[1;33m\u001b[0m\u001b[0m\n\u001b[0m\u001b[0;32m      6\u001b[0m \u001b[0mfp\u001b[0m\u001b[1;33m.\u001b[0m\u001b[0mclose\u001b[0m\u001b[1;33m(\u001b[0m\u001b[1;33m)\u001b[0m \u001b[1;31m#当对文件内容操作完以后，一定要关闭文件对象，这样才能保证所做的任何修改都确实被保存到文件中。\u001b[0m\u001b[1;33m\u001b[0m\u001b[1;33m\u001b[0m\u001b[0m\n",
      "\u001b[1;31mZeroDivisionError\u001b[0m: division by zero"
     ]
    }
   ],
   "source": [
    "fp = open('20211003.txt','w',encoding='utf-8')\n",
    "for i in range(10):\n",
    "    fp.write(str(i))\n",
    "    if i == 6:\n",
    "        1/0\n",
    "fp.close() #当对文件内容操作完以后，一定要关闭文件对象，这样才能保证所做的任何修改都确实被保存到文件中。"
   ]
  },
  {
   "cell_type": "code",
   "execution_count": 15,
   "metadata": {},
   "outputs": [
    {
     "ename": "ZeroDivisionError",
     "evalue": "division by zero",
     "output_type": "error",
     "traceback": [
      "\u001b[1;31m---------------------------------------------------------------------------\u001b[0m",
      "\u001b[1;31mZeroDivisionError\u001b[0m                         Traceback (most recent call last)",
      "\u001b[1;32m<ipython-input-15-96b2e28decc9>\u001b[0m in \u001b[0;36m<module>\u001b[1;34m\u001b[0m\n\u001b[0;32m      4\u001b[0m         \u001b[0mfp\u001b[0m\u001b[1;33m.\u001b[0m\u001b[0mwrite\u001b[0m\u001b[1;33m(\u001b[0m\u001b[0mstr\u001b[0m\u001b[1;33m(\u001b[0m\u001b[0mi\u001b[0m\u001b[1;33m)\u001b[0m\u001b[1;33m)\u001b[0m\u001b[1;33m\u001b[0m\u001b[1;33m\u001b[0m\u001b[0m\n\u001b[0;32m      5\u001b[0m         \u001b[1;32mif\u001b[0m \u001b[0mi\u001b[0m \u001b[1;33m==\u001b[0m \u001b[1;36m6\u001b[0m\u001b[1;33m:\u001b[0m\u001b[1;33m\u001b[0m\u001b[1;33m\u001b[0m\u001b[0m\n\u001b[1;32m----> 6\u001b[1;33m             \u001b[1;36m1\u001b[0m\u001b[1;33m/\u001b[0m\u001b[1;36m0\u001b[0m\u001b[1;33m\u001b[0m\u001b[1;33m\u001b[0m\u001b[0m\n\u001b[0m",
      "\u001b[1;31mZeroDivisionError\u001b[0m: division by zero"
     ]
    }
   ],
   "source": [
    "# 关键字with可以自动管理资源，不论因为什么原因（哪怕是代码引发了异常）跳出with块，总能保证文件被正确关闭。\n",
    "with open('20211003.txt','w',encoding='utf-8') as fp:\n",
    "    for i in range(10):\n",
    "        fp.write(str(i))\n",
    "        if i == 6:\n",
    "            1/0"
   ]
  },
  {
   "cell_type": "markdown",
   "metadata": {},
   "source": [
    "### 8. 自定义异常类\n",
    "#### 异常类型都是 继承自Exception的类，表示各种类型的错误。"
   ]
  },
  {
   "cell_type": "code",
   "execution_count": 12,
   "metadata": {},
   "outputs": [],
   "source": [
    "# 异常对象，代表电话号码有非法字符\n",
    "class InvalidCharError(Exception):\n",
    "    pass\n",
    "\n",
    "# 异常对象，代表电话号码非中国号码\n",
    "class NotChinaTelError(Exception):\n",
    "    pass"
   ]
  },
  {
   "cell_type": "code",
   "execution_count": 13,
   "metadata": {},
   "outputs": [
    {
     "name": "stdout",
     "output_type": "stream",
     "text": [
      "请注册您的电话号码:8787878\n",
      "非中国手机号码\n"
     ]
    }
   ],
   "source": [
    "def  register():\n",
    "    tel = input('请注册您的电话号码:')\n",
    "\n",
    "    # 如果有非数字字符\n",
    "    if not tel.isdigit(): \n",
    "        raise InvalidCharError()\n",
    "\n",
    "    # 如果不是以86开头，则不是中国号码\n",
    "    if not tel.startswith('86'): \n",
    "        raise NotChinaTelError()\n",
    "    \n",
    "    return tel\n",
    "\n",
    "try:\n",
    "    ret = register()\n",
    "except InvalidCharError:\n",
    "    print('电话号码中有错误的字符')\n",
    "except NotChinaTelError:\n",
    "    print('非中国手机号码')"
   ]
  },
  {
   "cell_type": "markdown",
   "metadata": {},
   "source": [
    "### 9. 函数调用里面产生的异常"
   ]
  },
  {
   "cell_type": "code",
   "execution_count": 1,
   "metadata": {},
   "outputs": [
    {
     "name": "stdout",
     "output_type": "stream",
     "text": [
      "进入 level_1\n",
      "进入 level_2\n",
      "进入 level_3\n"
     ]
    },
    {
     "ename": "IndexError",
     "evalue": "list index out of range",
     "output_type": "error",
     "traceback": [
      "\u001b[1;31m---------------------------------------------------------------------------\u001b[0m",
      "\u001b[1;31mIndexError\u001b[0m                                Traceback (most recent call last)",
      "\u001b[1;32m<ipython-input-1-e5df30784252>\u001b[0m in \u001b[0;36m<module>\u001b[1;34m\u001b[0m\n\u001b[0;32m     16\u001b[0m \u001b[1;33m\u001b[0m\u001b[0m\n\u001b[0;32m     17\u001b[0m \u001b[1;33m\u001b[0m\u001b[0m\n\u001b[1;32m---> 18\u001b[1;33m \u001b[0mlevel_1\u001b[0m\u001b[1;33m(\u001b[0m\u001b[1;33m)\u001b[0m\u001b[1;33m\u001b[0m\u001b[1;33m\u001b[0m\u001b[0m\n\u001b[0m\u001b[0;32m     19\u001b[0m \u001b[1;33m\u001b[0m\u001b[0m\n\u001b[0;32m     20\u001b[0m \u001b[0mprint\u001b[0m\u001b[1;33m(\u001b[0m\u001b[1;34m'程序正常退出'\u001b[0m\u001b[1;33m)\u001b[0m\u001b[1;33m\u001b[0m\u001b[1;33m\u001b[0m\u001b[0m\n",
      "\u001b[1;32m<ipython-input-1-e5df30784252>\u001b[0m in \u001b[0;36mlevel_1\u001b[1;34m()\u001b[0m\n\u001b[0;32m     12\u001b[0m \u001b[1;32mdef\u001b[0m \u001b[0mlevel_1\u001b[0m\u001b[1;33m(\u001b[0m\u001b[1;33m)\u001b[0m\u001b[1;33m:\u001b[0m\u001b[1;33m\u001b[0m\u001b[1;33m\u001b[0m\u001b[0m\n\u001b[0;32m     13\u001b[0m     \u001b[0mprint\u001b[0m \u001b[1;33m(\u001b[0m\u001b[1;34m'进入 level_1'\u001b[0m\u001b[1;33m)\u001b[0m\u001b[1;33m\u001b[0m\u001b[1;33m\u001b[0m\u001b[0m\n\u001b[1;32m---> 14\u001b[1;33m     \u001b[0mlevel_2\u001b[0m\u001b[1;33m(\u001b[0m\u001b[1;33m)\u001b[0m\u001b[1;33m\u001b[0m\u001b[1;33m\u001b[0m\u001b[0m\n\u001b[0m\u001b[0;32m     15\u001b[0m     \u001b[0mprint\u001b[0m \u001b[1;33m(\u001b[0m\u001b[1;34m'离开 level_1'\u001b[0m\u001b[1;33m)\u001b[0m\u001b[1;33m\u001b[0m\u001b[1;33m\u001b[0m\u001b[0m\n\u001b[0;32m     16\u001b[0m \u001b[1;33m\u001b[0m\u001b[0m\n",
      "\u001b[1;32m<ipython-input-1-e5df30784252>\u001b[0m in \u001b[0;36mlevel_2\u001b[1;34m()\u001b[0m\n\u001b[0;32m      7\u001b[0m \u001b[1;32mdef\u001b[0m \u001b[0mlevel_2\u001b[0m\u001b[1;33m(\u001b[0m\u001b[1;33m)\u001b[0m\u001b[1;33m:\u001b[0m\u001b[1;33m\u001b[0m\u001b[1;33m\u001b[0m\u001b[0m\n\u001b[0;32m      8\u001b[0m     \u001b[0mprint\u001b[0m \u001b[1;33m(\u001b[0m\u001b[1;34m'进入 level_2'\u001b[0m\u001b[1;33m)\u001b[0m\u001b[1;33m\u001b[0m\u001b[1;33m\u001b[0m\u001b[0m\n\u001b[1;32m----> 9\u001b[1;33m     \u001b[0mlevel_3\u001b[0m\u001b[1;33m(\u001b[0m\u001b[1;33m)\u001b[0m\u001b[1;33m\u001b[0m\u001b[1;33m\u001b[0m\u001b[0m\n\u001b[0m\u001b[0;32m     10\u001b[0m     \u001b[0mprint\u001b[0m \u001b[1;33m(\u001b[0m\u001b[1;34m'离开 level_2'\u001b[0m\u001b[1;33m)\u001b[0m\u001b[1;33m\u001b[0m\u001b[1;33m\u001b[0m\u001b[0m\n\u001b[0;32m     11\u001b[0m \u001b[1;33m\u001b[0m\u001b[0m\n",
      "\u001b[1;32m<ipython-input-1-e5df30784252>\u001b[0m in \u001b[0;36mlevel_3\u001b[1;34m()\u001b[0m\n\u001b[0;32m      2\u001b[0m     \u001b[0mprint\u001b[0m \u001b[1;33m(\u001b[0m\u001b[1;34m'进入 level_3'\u001b[0m\u001b[1;33m)\u001b[0m\u001b[1;33m\u001b[0m\u001b[1;33m\u001b[0m\u001b[0m\n\u001b[0;32m      3\u001b[0m     \u001b[0ma\u001b[0m \u001b[1;33m=\u001b[0m \u001b[1;33m[\u001b[0m\u001b[1;36m0\u001b[0m\u001b[1;33m]\u001b[0m\u001b[1;33m\u001b[0m\u001b[1;33m\u001b[0m\u001b[0m\n\u001b[1;32m----> 4\u001b[1;33m     \u001b[0mb\u001b[0m \u001b[1;33m=\u001b[0m \u001b[0ma\u001b[0m\u001b[1;33m[\u001b[0m\u001b[1;36m1\u001b[0m\u001b[1;33m]\u001b[0m\u001b[1;33m\u001b[0m\u001b[1;33m\u001b[0m\u001b[0m\n\u001b[0m\u001b[0;32m      5\u001b[0m     \u001b[0mprint\u001b[0m \u001b[1;33m(\u001b[0m\u001b[1;34m'离开 level_3'\u001b[0m\u001b[1;33m)\u001b[0m\u001b[1;33m\u001b[0m\u001b[1;33m\u001b[0m\u001b[0m\n\u001b[0;32m      6\u001b[0m \u001b[1;33m\u001b[0m\u001b[0m\n",
      "\u001b[1;31mIndexError\u001b[0m: list index out of range"
     ]
    }
   ],
   "source": [
    "def level_3():\n",
    "    print ('进入 level_3')\n",
    "    a = [0]\n",
    "    b = a[1]\n",
    "    print ('离开 level_3')\n",
    "\n",
    "def level_2():\n",
    "    print ('进入 level_2')\n",
    "    level_3()\n",
    "    print ('离开 level_2')\n",
    "\n",
    "def level_1():\n",
    "    print ('进入 level_1')\n",
    "    level_2()\n",
    "    print ('离开 level_1')\n",
    "\n",
    "\n",
    "level_1()\n",
    "\n",
    "print('程序正常退出') "
   ]
  },
  {
   "cell_type": "code",
   "execution_count": 4,
   "metadata": {},
   "outputs": [
    {
     "name": "stdout",
     "output_type": "stream",
     "text": [
      "进入 level_1\n",
      "进入 level_2\n",
      "进入 level_3\n",
      "未知异常:Traceback (most recent call last):\n",
      "  File \"<ipython-input-4-1bebee0beed6>\", line 21, in <module>\n",
      "    level_1()\n",
      "  File \"<ipython-input-4-1bebee0beed6>\", line 17, in level_1\n",
      "    level_2()\n",
      "  File \"<ipython-input-4-1bebee0beed6>\", line 11, in level_2\n",
      "    level_3()\n",
      "  File \"<ipython-input-4-1bebee0beed6>\", line 6, in level_3\n",
      "    b = a[1]\n",
      "IndexError: list index out of range\n",
      "\n",
      "程序正常退出\n"
     ]
    }
   ],
   "source": [
    "import traceback\n",
    "\n",
    "def level_3():\n",
    "    print ('进入 level_3')\n",
    "    a = [0]\n",
    "    b = a[1]\n",
    "    print ('离开 level_3')\n",
    "\n",
    "def level_2():\n",
    "    print ('进入 level_2')\n",
    "    level_3()\n",
    "    print ('离开 level_2')\n",
    "\n",
    "def level_1():\n",
    "    print ('进入 level_1')\n",
    "    \n",
    "    level_2()\n",
    "    print ('离开 level_1')\n",
    "\n",
    "try:\n",
    "    level_1()\n",
    "except :\n",
    "    print(f'未知异常:{traceback.format_exc()}')\n",
    "\n",
    "print('程序正常退出') \n"
   ]
  },
  {
   "cell_type": "code",
   "execution_count": 5,
   "metadata": {},
   "outputs": [
    {
     "name": "stdout",
     "output_type": "stream",
     "text": [
      "进入 level_1\n",
      "进入 level_2\n",
      "进入 level_3\n",
      "未知异常:Traceback (most recent call last):\n",
      "  File \"<ipython-input-5-c9943e803ca8>\", line 15, in level_1\n",
      "    level_2()\n",
      "  File \"<ipython-input-5-c9943e803ca8>\", line 9, in level_2\n",
      "    level_3()\n",
      "  File \"<ipython-input-5-c9943e803ca8>\", line 4, in level_3\n",
      "    b = a[1]\n",
      "IndexError: list index out of range\n",
      "\n",
      "离开 level_1\n",
      "程序正常退出\n"
     ]
    }
   ],
   "source": [
    "import traceback\n",
    "def level_3():\n",
    "    print ('进入 level_3')\n",
    "    a = [0]\n",
    "    b = a[1]\n",
    "    print ('离开 level_3')\n",
    "\n",
    "def level_2():\n",
    "    print ('进入 level_2')\n",
    "    level_3()\n",
    "    print ('离开 level_2')\n",
    "\n",
    "def level_1():\n",
    "    print ('进入 level_1')\n",
    "    try:\n",
    "        level_2()\n",
    "    except:\n",
    "        print(f'未知异常:{traceback.format_exc()}')   \n",
    "    print ('离开 level_1')\n",
    "    \n",
    "level_1()\n",
    "\n",
    "print('程序正常退出') "
   ]
  },
  {
   "cell_type": "code",
   "execution_count": 3,
   "metadata": {},
   "outputs": [
    {
     "name": "stdout",
     "output_type": "stream",
     "text": [
      "进入 level_1\n",
      "进入 level_2\n",
      "进入 level_3\n",
      "未知异常:Traceback (most recent call last):\n",
      "  File \"<ipython-input-3-9f8a8958731d>\", line 11, in level_2\n",
      "    level_3()\n",
      "  File \"<ipython-input-3-9f8a8958731d>\", line 5, in level_3\n",
      "    b = a[1]\n",
      "IndexError: list index out of range\n",
      "\n",
      "离开 level_2\n",
      "离开 level_1\n",
      "程序正常退出\n"
     ]
    }
   ],
   "source": [
    "import traceback\n",
    "def level_3():\n",
    "    print ('进入 level_3')\n",
    "    a = [0]\n",
    "    b = a[1]\n",
    "    print ('离开 level_3')\n",
    "\n",
    "def level_2():\n",
    "    print ('进入 level_2')\n",
    "    try:\n",
    "        level_3()\n",
    "    except:\n",
    "        print(f'未知异常:{traceback.format_exc()}')\n",
    "    print ('离开 level_2')\n",
    "\n",
    "def level_1():\n",
    "    print ('进入 level_1')\n",
    "    level_2()\n",
    "    print ('离开 level_1')\n",
    "    \n",
    "level_1()\n",
    "\n",
    "print('程序正常退出') "
   ]
  },
  {
   "cell_type": "markdown",
   "metadata": {},
   "source": [
    "### 总结：异常处理的好处很多，增强了程序的安全性，但是如果所有代码都加上异常处理，代码的可读性就很差。只有在有可能发生异常的地方才进行异常处理。"
   ]
  },
  {
   "cell_type": "markdown",
   "metadata": {},
   "source": [
    "### 随堂练习：输入一个年龄，当输入的年龄小于0的时候，手动触发一个异常，并且提示：年龄一定是大于0的。"
   ]
  }
 ],
 "metadata": {
  "kernelspec": {
   "display_name": "Python 3 (ipykernel)",
   "language": "python",
   "name": "python3"
  },
  "language_info": {
   "codemirror_mode": {
    "name": "ipython",
    "version": 3
   },
   "file_extension": ".py",
   "mimetype": "text/x-python",
   "name": "python",
   "nbconvert_exporter": "python",
   "pygments_lexer": "ipython3",
   "version": "3.9.5"
  }
 },
 "nbformat": 4,
 "nbformat_minor": 4
}
