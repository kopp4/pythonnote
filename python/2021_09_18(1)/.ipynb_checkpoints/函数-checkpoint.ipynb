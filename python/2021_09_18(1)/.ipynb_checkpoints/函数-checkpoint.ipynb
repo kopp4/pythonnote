{
 "cells": [
  {
   "cell_type": "markdown",
   "metadata": {},
   "source": [
    "### 控制语句复习\n",
    "#### P65 习题3.1 通过选择结构把一门课的成绩转化成绩点并输出，其中绩点的计算为了简单采用90-100分4.0，80-89分3.0，70-79分2.0，60-69分1.0的规则。"
   ]
  },
  {
   "cell_type": "code",
   "execution_count": 11,
   "metadata": {},
   "outputs": [
    {
     "name": "stdout",
     "output_type": "stream",
     "text": [
      "输入成绩：80\n",
      "3.0\n"
     ]
    }
   ],
   "source": [
    "a = int(input(\"输入成绩：\")) # 输入成绩a\n",
    "if 90<=a<=100:\n",
    "    b = 4.0\n",
    "elif 80<=a<=89:\n",
    "    b = 3.0\n",
    "elif 70<=a<=79:\n",
    "    b = 2.0\n",
    "elif 60<=a<=69:\n",
    "    b = 1.0\n",
    "elif 0<=a<=59:\n",
    "    b = 0.0\n",
    "else:\n",
    "    b = \"成绩有误！\"\n",
    "print(b) # 输出绩点b"
   ]
  },
  {
   "cell_type": "markdown",
   "metadata": {},
   "source": [
    "#### 习题3.4 使用循环计算1~100中所有偶数的和。"
   ]
  },
  {
   "cell_type": "code",
   "execution_count": 7,
   "metadata": {},
   "outputs": [
    {
     "name": "stdout",
     "output_type": "stream",
     "text": [
      "2550\n"
     ]
    }
   ],
   "source": [
    "sum = 0\n",
    "for i in range(2,101,2):\n",
    "    sum += i\n",
    "print(sum)"
   ]
  },
  {
   "cell_type": "markdown",
   "metadata": {},
   "source": [
    "#### 作业： 斐波那契数列(Fibonacci sequence)，又称黄金分割数列，是一个递归定义的数列，它的前两项为 1 ，从第三项开始每项都是前面两项的和。输出100以内的斐波那契数列。（1，1，2，3，5，8，13……）"
   ]
  },
  {
   "cell_type": "markdown",
   "metadata": {},
   "source": [
    "### Python快速交换变量值的方法"
   ]
  },
  {
   "cell_type": "code",
   "execution_count": 17,
   "metadata": {},
   "outputs": [
    {
     "name": "stdout",
     "output_type": "stream",
     "text": [
      "2\n",
      "1\n"
     ]
    }
   ],
   "source": [
    "a = 1\n",
    "b = 2\n",
    "temp = a #传统方法是用第三方变量来转换\n",
    "a = b\n",
    "b = temp\n",
    "print(a)\n",
    "print(b)\n"
   ]
  },
  {
   "cell_type": "code",
   "execution_count": 1,
   "metadata": {},
   "outputs": [
    {
     "name": "stdout",
     "output_type": "stream",
     "text": [
      "2\n",
      "1\n"
     ]
    }
   ],
   "source": [
    "a=1\n",
    "b=2\n",
    "a,b = b,a\n",
    "print(a)\n",
    "print(b)"
   ]
  },
  {
   "cell_type": "code",
   "execution_count": 2,
   "metadata": {},
   "outputs": [
    {
     "name": "stdout",
     "output_type": "stream",
     "text": [
      "4 3 2 1\n"
     ]
    }
   ],
   "source": [
    "a,b,c,d = 1,2,3,4\n",
    "a,b,c,d = d,c,b,a\n",
    "print(a,b,c,d)"
   ]
  },
  {
   "cell_type": "markdown",
   "metadata": {},
   "source": [
    "### 函数"
   ]
  },
  {
   "cell_type": "markdown",
   "metadata": {},
   "source": [
    "#### P52 例子 "
   ]
  },
  {
   "cell_type": "code",
   "execution_count": 20,
   "metadata": {},
   "outputs": [
    {
     "name": "stdout",
     "output_type": "stream",
     "text": [
      "You want to sing?\n",
      "Don't even think about it.\n",
      "You want to swim?\n",
      "OK!\n"
     ]
    }
   ],
   "source": [
    "# 函数定义\n",
    "def ask_me_to(string):\n",
    "    print(f'You want to {string}?') # 使用f-string格式化字符串\n",
    "    if string == 'swim':\n",
    "        return 'OK!'\n",
    "    else:\n",
    "        return \"Don't even think about it.\"\n",
    "    \n",
    "# 函数调用\n",
    "print(ask_me_to('sing'))\n",
    "print(ask_me_to('swim'))"
   ]
  },
  {
   "cell_type": "markdown",
   "metadata": {},
   "source": [
    "### 函数的参数  P54例子"
   ]
  },
  {
   "cell_type": "code",
   "execution_count": 21,
   "metadata": {},
   "outputs": [
    {
     "name": "stdout",
     "output_type": "stream",
     "text": [
      "2018-01-01\n",
      "2018-02-01\n",
      "2018-05-01\n",
      "2018-01-03\n",
      "2018-02-05\n"
     ]
    }
   ],
   "source": [
    "# 格式化输出日期的函数\n",
    "def print_date(year,month=1,day=1): # 默认参数\n",
    "    print(f'{year:04d}-{month:02d}-{day:02d}')\n",
    "    \n",
    "print_date(2018)\n",
    "print_date(2018,2,1)\n",
    "print_date(2018,5)\n",
    "print_date(2018,day=3) #传参和声明顺序不一致，必须有参数名称。\n",
    "print_date(2018,month=2,day=5)"
   ]
  },
  {
   "cell_type": "markdown",
   "metadata": {},
   "source": [
    "### 练习：定义三个入参的函数，通过参数控制向不同的家庭成员传达不同节日的祝福"
   ]
  },
  {
   "cell_type": "markdown",
   "metadata": {},
   "source": [
    "### 3.4.5 任意位置参数"
   ]
  },
  {
   "cell_type": "code",
   "execution_count": 1,
   "metadata": {},
   "outputs": [
    {
     "name": "stdout",
     "output_type": "stream",
     "text": [
      "参数args的类型是：\n",
      "<class 'tuple'>\n",
      "31\n",
      "32\n",
      "33\n",
      "34\n",
      "778\n",
      "999\n"
     ]
    }
   ],
   "source": [
    "def print_args(*args):\n",
    "    print(\"参数args的类型是：\")\n",
    "    print(type(args))\n",
    "    for arg in args:\n",
    "        print(arg)\n",
    "        \n",
    "print_args(31,32,33,34,778,999)"
   ]
  },
  {
   "cell_type": "markdown",
   "metadata": {},
   "source": [
    "练习：计算多个数字的和"
   ]
  },
  {
   "cell_type": "code",
   "execution_count": 25,
   "metadata": {},
   "outputs": [
    {
     "name": "stdout",
     "output_type": "stream",
     "text": [
      "55\n"
     ]
    }
   ],
   "source": [
    "def add(*nums):\n",
    "    sum = 0\n",
    "    for num in nums:\n",
    "        sum += num\n",
    "    return sum\n",
    "\n",
    "total = add(1,2,3,4,5,6,7,8,9,10)\n",
    "print(total)"
   ]
  },
  {
   "cell_type": "markdown",
   "metadata": {},
   "source": [
    "### 3.4.6 任意键值参数"
   ]
  },
  {
   "cell_type": "code",
   "execution_count": 2,
   "metadata": {},
   "outputs": [
    {
     "name": "stdout",
     "output_type": "stream",
     "text": [
      "参数kwargs的类型是：\n",
      "<class 'dict'>\n",
      "参数kwargs的值是：\n",
      "{'a': 1, 'b': 2, 'c': 3, 'd': 4}\n",
      "参数kwargs的类型是：\n",
      "<class 'dict'>\n",
      "参数kwargs的值是：\n",
      "{'科目': '语文', '成绩': 90}\n"
     ]
    }
   ],
   "source": [
    "def print_kwargs(**kwargs): #特点：加**\n",
    "    print(\"参数kwargs的类型是：\")\n",
    "    print(type(kwargs))\n",
    "    print(\"参数kwargs的值是：\")\n",
    "    print(kwargs)\n",
    "\n",
    "print_kwargs(a=1,b=2,c=3,d=4)\n",
    "print_kwargs(科目=\"语文\",成绩=90)"
   ]
  },
  {
   "cell_type": "markdown",
   "metadata": {},
   "source": [
    "练习：定义一个函数，通过包裹关键字传参数的形式接收各门课程期末成绩，并计算总分"
   ]
  },
  {
   "cell_type": "markdown",
   "metadata": {},
   "source": [
    "### 函数调用的时候参数顺序应该满足的规则：\n",
    "1. 位置相关参数不能在关键词参数之后。\n",
    "2. 位置相关参数优先。"
   ]
  },
  {
   "cell_type": "code",
   "execution_count": 3,
   "metadata": {},
   "outputs": [
    {
     "ename": "TypeError",
     "evalue": "print_args() got multiple values for argument 'arg1'",
     "output_type": "error",
     "traceback": [
      "\u001b[1;31m---------------------------------------------------------------------------\u001b[0m",
      "\u001b[1;31mTypeError\u001b[0m                                 Traceback (most recent call last)",
      "\u001b[1;32m<ipython-input-3-00ce13dc3938>\u001b[0m in \u001b[0;36m<module>\u001b[1;34m\u001b[0m\n\u001b[0;32m      3\u001b[0m     \u001b[0mprint\u001b[0m\u001b[1;33m(\u001b[0m\u001b[0marg2\u001b[0m\u001b[1;33m)\u001b[0m\u001b[1;33m\u001b[0m\u001b[1;33m\u001b[0m\u001b[0m\n\u001b[0;32m      4\u001b[0m \u001b[1;33m\u001b[0m\u001b[0m\n\u001b[1;32m----> 5\u001b[1;33m \u001b[0mprint_args\u001b[0m\u001b[1;33m(\u001b[0m\u001b[1;36m5\u001b[0m\u001b[1;33m,\u001b[0m\u001b[0marg1\u001b[0m\u001b[1;33m=\u001b[0m\u001b[1;36m3\u001b[0m\u001b[1;33m)\u001b[0m\u001b[1;33m\u001b[0m\u001b[1;33m\u001b[0m\u001b[0m\n\u001b[0m",
      "\u001b[1;31mTypeError\u001b[0m: print_args() got multiple values for argument 'arg1'"
     ]
    }
   ],
   "source": [
    "def print_args(arg1,arg2):\n",
    "    print(arg1)\n",
    "    print(arg2)\n",
    "    \n",
    "print_args(5,arg1=3)"
   ]
  },
  {
   "cell_type": "code",
   "execution_count": 6,
   "metadata": {},
   "outputs": [
    {
     "ename": "SyntaxError",
     "evalue": "positional argument follows keyword argument (<ipython-input-6-e787ce797364>, line 5)",
     "output_type": "error",
     "traceback": [
      "\u001b[1;36m  File \u001b[1;32m\"<ipython-input-6-e787ce797364>\"\u001b[1;36m, line \u001b[1;32m5\u001b[0m\n\u001b[1;33m    print_args(arg1=3,5)\u001b[0m\n\u001b[1;37m                     ^\u001b[0m\n\u001b[1;31mSyntaxError\u001b[0m\u001b[1;31m:\u001b[0m positional argument follows keyword argument\n"
     ]
    }
   ],
   "source": [
    "def print_args(arg1,arg2):\n",
    "    print(arg1)\n",
    "    print(arg2)\n",
    "    \n",
    "print_args(arg1=3,5)"
   ]
  },
  {
   "cell_type": "code",
   "execution_count": null,
   "metadata": {},
   "outputs": [],
   "source": []
  }
 ],
 "metadata": {
  "kernelspec": {
   "display_name": "Python 3 (ipykernel)",
   "language": "python",
   "name": "python3"
  },
  "language_info": {
   "codemirror_mode": {
    "name": "ipython",
    "version": 3
   },
   "file_extension": ".py",
   "mimetype": "text/x-python",
   "name": "python",
   "nbconvert_exporter": "python",
   "pygments_lexer": "ipython3",
   "version": "3.9.5"
  }
 },
 "nbformat": 4,
 "nbformat_minor": 4
}
