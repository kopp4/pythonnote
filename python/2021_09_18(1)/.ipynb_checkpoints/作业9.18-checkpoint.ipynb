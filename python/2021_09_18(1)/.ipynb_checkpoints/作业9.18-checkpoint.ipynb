{
 "cells": [
  {
   "cell_type": "markdown",
   "metadata": {},
   "source": [
    "### 1. 斐波那契数列(Fibonacci sequence)，又称黄金分割数列，是一个递归定义的数列，它的前两项为 1 ，从第三项开始每项都是前面两项的和。输出100以内的斐波那契数列。（1，1，2，3，5，8，13……）"
   ]
  },
  {
   "cell_type": "markdown",
   "metadata": {},
   "source": [
    "### 2.定义三个入参的函数，通过参数控制向不同的家庭成员传达不同节日的祝福"
   ]
  },
  {
   "cell_type": "markdown",
   "metadata": {},
   "source": [
    "### 3.定义一个函数，通过包裹关键字传参数的形式接收各门课程期末成绩，并计算总分"
   ]
  }
 ],
 "metadata": {
  "kernelspec": {
   "display_name": "Python 3 (ipykernel)",
   "language": "python",
   "name": "python3"
  },
  "language_info": {
   "codemirror_mode": {
    "name": "ipython",
    "version": 3
   },
   "file_extension": ".py",
   "mimetype": "text/x-python",
   "name": "python",
   "nbconvert_exporter": "python",
   "pygments_lexer": "ipython3",
   "version": "3.9.5"
  }
 },
 "nbformat": 4,
 "nbformat_minor": 4
}
