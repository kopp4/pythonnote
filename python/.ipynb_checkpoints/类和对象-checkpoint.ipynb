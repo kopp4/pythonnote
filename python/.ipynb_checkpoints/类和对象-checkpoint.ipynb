{
 "cells": [
  {
   "cell_type": "markdown",
   "metadata": {},
   "source": [
    "### 一、面向对象概述\n",
    "#### 面向对象的编程思想：按照真实世界客观事物的自然规律进行分析，客观世界中存在什么样的实体，构建的软件系统就存在什么样的实体。\n",
    "#### 例如：在真实世界的学校里，会有学生和老师等实体，学生有学号、姓名、所在班级等属性（数据），学生还有学习、提问、吃饭和走路等操作。学生只是抽象的描述，这个抽象的描述称为“类”。在学校里活动是学生个体，即：张同学、李同学等，这些具体的个体称为“对象”，“对象”也称为“实例”。\n",
    "#### 在现实世界有类和对象，面向对象软件世界也会有，只不过他们会以某种计算机语言编写的程序代码形式存在，这就是面向对象编程（Object Oriented Programming，OOP）。"
   ]
  },
  {
   "cell_type": "markdown",
   "metadata": {},
   "source": [
    "### 二、面向对象三个基本特性\n",
    "#### 1.封装性\n",
    "在现实世界中封装的例子到处都是。例如：一台计算机内部极其复杂，有主板、CPU、硬盘和内存，而一般用户不需要了解它的内部细节，不需要知道主板的型号、CPU主频、硬盘和内存的大小，于是计算机制造商将用机箱把计算机封装起来，对外提供了一些接口，如鼠标、键盘和显示器等，这样当用户使用计算机就变非常方便。\n",
    "那么，面向对象的封装与真实世界的目的是一样的。封装能够使外部访问者不能随意存取对象的内部数据，隐藏了对象的内部细节，只保留有限的对外接口。外部访问者不用关心对象的内部细节，使得操作对象变得简单。\n",
    "#### 2.继承性\n",
    "在现实世界中继承也是无处不在。例如：轮船与客轮之间的关系，客轮是一种特殊轮船，拥有轮船的全部特征和行为，即数据和操作。在面向对象中轮船是一般类，客轮是特殊类，特殊类拥有一般类的全部数据和操作，称为特殊类继承一般类。一般类称为“父类”或“超类”，特殊类称为“子类”或“派生类”，为了统一本书中一般类统称为“父类”，特殊类统称为“子类”。\n",
    "#### 3.多态性\n",
    "多态性是指在父类中成员被子类继承之后，可以具有不同的状态或表现行为。"
   ]
  },
  {
   "cell_type": "markdown",
   "metadata": {},
   "source": [
    "### 三、类和对象\n",
    "#### 1.类定义语法格式如下：\n",
    "class 类名[ (父类) ] : \n",
    "    类体\n",
    "\n",
    "其中，class是声明类的关键字，“类名”是自定义的类名，自定义类名首先应该是合法的标识符，具体要求参考4.1.1节。其中应该遵守Python命名规范采用大驼峰法命名法。“父类”声明当前类继承的父类，父类可以省略声明，表示直接继承object类。定义动物（Animal）类代码如下：\n",
    "\n",
    "class Animal(object):\n",
    "    # 类体\n",
    "    pass\n",
    "#### 2.创建和使用对象\n",
    "创建对象很简单就是在类后面加上一对小括号，表示调用类的构造方法。这就创建了一个对象，示例代码如下：\n",
    "\n",
    "animal = Animal()\n",
    "\n",
    "Animal是上一节定义的动物类，Animal()表达式创建一个动物对象，并把创建的对象赋值给animal变量，animal是指向动物对象的一个引用。通过animal变量可以使用刚刚创建的动物对象。如下代码打印输出动物对象。\n",
    "\n",
    "print(animal)\n",
    "\n",
    "输出结果如下：\n",
    "\n",
    "<__main__.Animal object at 0x0000024A18CB90F0>\n",
    "\n",
    "print函数打印对象会输出一些很难懂的信息，事实上print函数是调用了对象的__str__()方法输出字符串信息，__str__()是object类一个方法，它会返回有关该对象的描述信息，由于本例中Animal类的__str__()方法是默认实现，所以会返回这些难懂的信息，如果要打印出有好的信息，需要重写__str__()方法。"
   ]
  },
  {
   "cell_type": "markdown",
   "metadata": {},
   "source": [
    "#### 3.类的成员\n",
    "包括：成员变量、成员方法和属性，成员变量又分为实例变量和类变量，成员方法又分为实例方法、类方法和静态方法。\n",
    "![jupyter image](class.jpg)"
   ]
  },
  {
   "cell_type": "markdown",
   "metadata": {},
   "source": [
    "### 例1 定义动物类，实例化创建对象，输出对象的属性。"
   ]
  },
  {
   "cell_type": "code",
   "execution_count": 2,
   "metadata": {},
   "outputs": [
    {
     "name": "stdout",
     "output_type": "stream",
     "text": [
      "年龄：2\n",
      "性别：雄性\n",
      "体重：10.0\n"
     ]
    }
   ],
   "source": [
    "class Animal(object):  \n",
    "    \"\"\"定义动物类\"\"\"\n",
    "\n",
    "    def __init__(self, age, sex, weight): # 构造方法，用来创建和初始化实例变量的。\n",
    "        self.age = age  # 定义年龄实例变量 \n",
    "        self.sex = sex  # 定义性别实例变量\n",
    "        self.weight = weight  # 定义体重实例变量\n",
    "\n",
    "\n",
    "animal = Animal(2, 1, 10.0) \n",
    "\n",
    "print('年龄：{0}'.format(animal.age)) \n",
    "print('性别：{0}'.format('雌性' if animal.sex == 0 else '雄性'))\n",
    "print('体重：{0}'.format(animal.weight))\n"
   ]
  },
  {
   "cell_type": "markdown",
   "metadata": {},
   "source": [
    "上述代码第①行是定义Animal动物类，其中代码第②行是__init__()方法是构造方法，构造方法用来创建和初始化实例变量的。构造方法中的self指向当前对象实例的引用，代码第③行是在创建和初始化实例变量age，其中self.age表示对象的age实例变量。\n",
    "代码第④行是animal.age是访问age实例变量，实例变量需要通过“实例名.实例变量”形式访问。"
   ]
  },
  {
   "cell_type": "markdown",
   "metadata": {},
   "source": [
    "### 例1 定义交通工具类，实例化创建对象，调用方法，输出对象的属性。"
   ]
  },
  {
   "cell_type": "code",
   "execution_count": 1,
   "metadata": {},
   "outputs": [
    {
     "name": "stdout",
     "output_type": "stream",
     "text": [
      "['old driver']\n",
      "True\n",
      "False\n"
     ]
    }
   ],
   "source": [
    "# 6.1\n",
    "class Vehicle:\n",
    "    def __init__(self):\n",
    "        self.movable = True\n",
    "        self.passengers = list()\n",
    "        self.is_running = False\n",
    "\n",
    "    def load_person(self, person: str):\n",
    "        self.passengers.append(person)\n",
    "\n",
    "    def run(self):\n",
    "        self.is_running = True\n",
    "\n",
    "    def stop(self):\n",
    "        self.is_running = False\n",
    "\n",
    "# 6.2\n",
    "car = Vehicle() #创建小轿车对象\n",
    "bike = Vehicle() #创建自行车对象\n",
    "car.load_person('old driver')  # 对象加一个点再加上方法名可以调用相应的方法\n",
    "car.run()\n",
    "print(car.passengers)\n",
    "print(car.is_running)\n",
    "print(bike.is_running)"
   ]
  },
  {
   "cell_type": "markdown",
   "metadata": {},
   "source": [
    "### 例2 面向过程的方法来实现交通工具载人运动这件事。"
   ]
  },
  {
   "cell_type": "code",
   "execution_count": 2,
   "metadata": {},
   "outputs": [
    {
     "name": "stdout",
     "output_type": "stream",
     "text": [
      "{'movable': True, 'passengers': ['old driver'], 'is_running': True}\n"
     ]
    }
   ],
   "source": [
    "# 6.4\n",
    "def get_car():\n",
    "    return {'movable': True, 'passengers': [], 'is_running': False}\n",
    "\n",
    "\n",
    "def load_passenger(car, passenger):\n",
    "    car['passengers'].append(passenger)\n",
    "\n",
    "\n",
    "def run(car):\n",
    "    car['is_running'] = True\n",
    "\n",
    "\n",
    "car = get_car()\n",
    "load_passenger(car, 'old driver')\n",
    "run(car)\n",
    "print(car)"
   ]
  },
  {
   "cell_type": "markdown",
   "metadata": {},
   "source": [
    "这段代码是“面向过程”的——就是说对于同一件事，我们抽象的方式是按照事情的发展过程进行的。所以这件事就变成了获得交通工具、乘客登上交通工具、交通工具动起来这三个过程，但是反观面向对象的方法，我们一开始就是针对交通工具这个类设计的，也就是说我们从这件事情中抽象出了交通工具这个类，然后思考它有什么属性，能完成什么事情。\n",
    "虽然面向过程一般是更加符合人类思维方式的，但是随着学习的深入，我们会逐渐意识到面向对象是程序设计的一个利器，因为它把一个对象的属性和相关方法都封装到了一起，在设计复杂逻辑时候可以有效降低思维负担。\n",
    "但是面向过程和面向对象不是冲突的，有时候面向对象也会用到面向过程的思想，反之亦然，二者没有优劣性可言，也不是对立的，都是为了解决问题而存在。"
   ]
  },
  {
   "cell_type": "markdown",
   "metadata": {},
   "source": [
    "### 例3 实例变量"
   ]
  },
  {
   "cell_type": "markdown",
   "metadata": {},
   "source": [
    "#### 实例变量是某个实例（或对象）个体特有的“数据”，例如你家狗狗的名字、年龄和性别。见例1"
   ]
  },
  {
   "cell_type": "markdown",
   "metadata": {},
   "source": [
    "### 例4 类变量\n",
    "#### 类变量是所有实例（或对象）共有的变量。"
   ]
  },
  {
   "cell_type": "code",
   "execution_count": 3,
   "metadata": {},
   "outputs": [
    {
     "name": "stdout",
     "output_type": "stream",
     "text": [
      "账户名：Tony\n",
      "账户金额：1800000.0\n",
      "利率：0.0668\n"
     ]
    }
   ],
   "source": [
    "class Account:\n",
    "    \"\"\"定义银行账户类\"\"\"\n",
    "\n",
    "    interest_rate = 0.0668  # 类变量利率 ①\n",
    "\n",
    "    def __init__(self, owner, amount):\n",
    "        self.owner = owner  # 定义实例变量账户名\n",
    "        self.amount = amount  # 定义实例变量账户金额\n",
    "\n",
    "account = Account('Tony', 1_800_000.0)\n",
    "\n",
    "print('账户名：{0}'.format(account.owner)) # ② 实例名.实例变量\n",
    "print('账户金额：{0}'.format(account.amount)) \n",
    "print('利率：{0}'.format(Account.interest_rate)) # ③ 类名.类变量"
   ]
  },
  {
   "cell_type": "markdown",
   "metadata": {},
   "source": [
    "### 例5 构造方法\n",
    "#### __init__()方法，该方法用来创建和初始化实例变量。"
   ]
  },
  {
   "cell_type": "markdown",
   "metadata": {},
   "source": [
    "### 例6 实例方法\n",
    "#### 是某个实例特有的方法"
   ]
  },
  {
   "cell_type": "code",
   "execution_count": 2,
   "metadata": {},
   "outputs": [
    {
     "name": "stdout",
     "output_type": "stream",
     "text": [
      "a1体重：10.00\n",
      "eat...\n",
      "a1体重：10.05\n",
      "run...\n",
      "a1体重：10.04\n"
     ]
    }
   ],
   "source": [
    "class Animal(object):\n",
    "    \"\"\"定义动物类\"\"\"\n",
    "\n",
    "    def __init__(self, age, sex=1, weight=0.0): \n",
    "        self.age = age  # 定义年龄实例变量\n",
    "        self.sex = sex  # 定义性别实例变量\n",
    "        self.weight = weight  # 定义体重实例变量\n",
    "\n",
    "    def eat(self):  #声明实例方法①\n",
    "        self.weight += 0.05\n",
    "        print('eat...')\n",
    "\n",
    "    def run(self):  #声明实例方法②\n",
    "        self.weight -= 0.01\n",
    "        print('run...')\n",
    "\n",
    "a1 = Animal(2, 0, 10.0)\n",
    "print('a1体重：{0:0.2f}'.format(a1.weight))\n",
    "a1.eat() #调用实例方法③\n",
    "print('a1体重：{0:0.2f}'.format(a1.weight))\n",
    "a1.run() #调用实例方法④\n",
    "print('a1体重：{0:0.2f}'.format(a1.weight))"
   ]
  },
  {
   "cell_type": "markdown",
   "metadata": {},
   "source": [
    "### 例7 类方法\n",
    "#### 是属于类而不属于个体实例的方法。"
   ]
  },
  {
   "cell_type": "code",
   "execution_count": null,
   "metadata": {},
   "outputs": [],
   "source": [
    "class Account:\n",
    "    \"\"\"定义银行账户类\"\"\"\n",
    "\n",
    "    interest_rate = 0.0668  # 类变量利率\n",
    "\n",
    "    def __init__(self, owner, amount):\n",
    "        self.owner = owner  # 定义实例变量账户名\n",
    "        self.amount = amount  # 定义实例变量账户金额\n",
    "\n",
    "    # 类方法\n",
    "    @classmethod\n",
    "    def interest_by(cls, amt): ①\n",
    "        return cls.interest_rate * amt ②\n",
    "\n",
    "interest = Account.interest_by(12_000.0) ③\n",
    "print('计算利息：{0:.4f}'.format(interest))"
   ]
  },
  {
   "cell_type": "markdown",
   "metadata": {},
   "source": [
    "定义类方法有两个关键：一、方法第一个参数cls，见代码①行，cls是类的type实例，type是描述Python数据类型的类；二、方法使用装饰器@classmethod声明该方法是类方法。\n",
    "\n",
    "代码第②行是方法体，在类方法中可以访问其他的类变量和类方法, cls.interest_rate是访问类变量interest_rate。\n",
    "\n",
    "代码第③行是调用类方法interest_by()，采用“类名.类方法”形式调用。"
   ]
  },
  {
   "cell_type": "markdown",
   "metadata": {},
   "source": [
    "### 例8 封装例子\n",
    "#### 私有变量、私有方法"
   ]
  },
  {
   "cell_type": "code",
   "execution_count": 3,
   "metadata": {},
   "outputs": [
    {
     "ename": "AttributeError",
     "evalue": "'Animal' object has no attribute '__weight'",
     "output_type": "error",
     "traceback": [
      "\u001b[1;31m---------------------------------------------------------------------------\u001b[0m",
      "\u001b[1;31mAttributeError\u001b[0m                            Traceback (most recent call last)",
      "\u001b[1;32m<ipython-input-3-15a7a986ef4a>\u001b[0m in \u001b[0;36m<module>\u001b[1;34m\u001b[0m\n\u001b[0;32m     18\u001b[0m \u001b[0ma1\u001b[0m \u001b[1;33m=\u001b[0m \u001b[0mAnimal\u001b[0m\u001b[1;33m(\u001b[0m\u001b[1;36m2\u001b[0m\u001b[1;33m,\u001b[0m \u001b[1;36m0\u001b[0m\u001b[1;33m,\u001b[0m \u001b[1;36m10.0\u001b[0m\u001b[1;33m)\u001b[0m\u001b[1;33m\u001b[0m\u001b[1;33m\u001b[0m\u001b[0m\n\u001b[0;32m     19\u001b[0m \u001b[1;33m\u001b[0m\u001b[0m\n\u001b[1;32m---> 20\u001b[1;33m \u001b[0mprint\u001b[0m\u001b[1;33m(\u001b[0m\u001b[1;34m'a1体重：{0:0.2f}'\u001b[0m\u001b[1;33m.\u001b[0m\u001b[0mformat\u001b[0m\u001b[1;33m(\u001b[0m\u001b[0ma1\u001b[0m\u001b[1;33m.\u001b[0m\u001b[0m__weight\u001b[0m\u001b[1;33m)\u001b[0m\u001b[1;33m)\u001b[0m \u001b[1;31m# ②\u001b[0m\u001b[1;33m\u001b[0m\u001b[1;33m\u001b[0m\u001b[0m\n\u001b[0m\u001b[0;32m     21\u001b[0m \u001b[0ma1\u001b[0m\u001b[1;33m.\u001b[0m\u001b[0meat\u001b[0m\u001b[1;33m(\u001b[0m\u001b[1;33m)\u001b[0m\u001b[1;33m\u001b[0m\u001b[1;33m\u001b[0m\u001b[0m\n\u001b[0;32m     22\u001b[0m \u001b[0ma1\u001b[0m\u001b[1;33m.\u001b[0m\u001b[0mrun\u001b[0m\u001b[1;33m(\u001b[0m\u001b[1;33m)\u001b[0m\u001b[1;33m\u001b[0m\u001b[1;33m\u001b[0m\u001b[0m\n",
      "\u001b[1;31mAttributeError\u001b[0m: 'Animal' object has no attribute '__weight'"
     ]
    }
   ],
   "source": [
    "class Animal(object):\n",
    "    \"\"\"定义动物类\"\"\"\n",
    "\n",
    "    def __init__(self, age, sex=1, weight=0.0):\n",
    "        self.age = age  # 定义年龄实例变量\n",
    "        self.sex = sex  # 定义性别实例变量\n",
    "        self.__weight = weight  # 定义体重实例变量，变量前加上两个下划线是私有变量，只能在类内部访问\t ①\n",
    "\n",
    "    def eat(self):\n",
    "        self.__weight += 0.05\n",
    "        print('eat...')\n",
    "\n",
    "    def run(self):\n",
    "        self.__weight -= 0.01\n",
    "        print('run...')\n",
    "\n",
    "\n",
    "a1 = Animal(2, 0, 10.0)\n",
    "\n",
    "print('a1体重：{0:0.2f}'.format(a1.__weight)) # ②\n",
    "a1.eat()\n",
    "a1.run()"
   ]
  },
  {
   "cell_type": "code",
   "execution_count": 4,
   "metadata": {},
   "outputs": [
    {
     "name": "stdout",
     "output_type": "stream",
     "text": [
      "年龄是2,性别是0,体重是10.0\n",
      "eat...\n",
      "run...\n",
      "年龄是2,性别是0,体重是10.040000000000001\n"
     ]
    }
   ],
   "source": [
    "class Animal(object):\n",
    "    \"\"\"定义动物类\"\"\"\n",
    "\n",
    "    def __init__(self, age, sex=1, weight=0.0):\n",
    "        self.age = age  # 定义年龄实例变量\n",
    "        self.sex = sex  # 定义性别实例变量\n",
    "        self.__weight = weight  # 定义体重实例变量\t ①\n",
    "\n",
    "    def eat(self):\n",
    "        self.__weight += 0.05\n",
    "        print('eat...')\n",
    "\n",
    "    def run(self):\n",
    "        self.__weight -= 0.01\n",
    "        print('run...')\n",
    "        \n",
    "    def __str__(self): # 魔术方法，自定义输出对象的字符串。\n",
    "        dec = f'年龄是{self.age},性别是{self.sex},体重是{self.__weight}'\n",
    "        return dec\n",
    "\n",
    "a1 = Animal(2, 0, 10.0)\n",
    "\n",
    "print(a1) # ②\n",
    "a1.eat()\n",
    "a1.run()\n",
    "print(a1) # ②"
   ]
  },
  {
   "cell_type": "markdown",
   "metadata": {},
   "source": [
    "### 封装的好处：外部访问者不能随意存取对象的内部数据，保证数据安全性"
   ]
  },
  {
   "cell_type": "code",
   "execution_count": 5,
   "metadata": {},
   "outputs": [
    {
     "name": "stdout",
     "output_type": "stream",
     "text": [
      "员工的名字是光头强，电话是1897088****，工资是3000\n",
      "员工的名字是光头强，电话是1897088****，工资是6000\n"
     ]
    }
   ],
   "source": [
    "#给光头强涨工资，需要修改__salary私有属性,方法：在类中提供方法给外部调用。\n",
    "class Employee: #定义员工类\n",
    "    def __init__(self,name,iphone): #初始化员工类的属性\n",
    "        self.name = name\n",
    "        self.iphone = iphone\n",
    "        self.__salary = 3000 #私有属性\n",
    "    def __str__(self): #定义员工类的指定输出格式\n",
    "        dec = \"员工的名字是\"+self.name+\"，电话是\"+self.iphone+\"，工资是\"+str(self.__salary)\n",
    "        return dec\n",
    "    def updateSalary(self,salary):\n",
    "        self.__salary = salary\n",
    "    \n",
    "\n",
    "employee = Employee(\"光头强\",\"1897088****\") #定义员工类的对象\n",
    "print(employee)\n",
    "\n",
    "employee.updateSalary(6000) #调用updateSalary()方法，修改私有属性\n",
    "print(employee)"
   ]
  },
  {
   "cell_type": "markdown",
   "metadata": {},
   "source": [
    "### 例9 继承例子"
   ]
  },
  {
   "cell_type": "code",
   "execution_count": 6,
   "metadata": {},
   "outputs": [
    {
     "name": "stdout",
     "output_type": "stream",
     "text": [
      "我是lily，我在跑。\n",
      "我是lily，我会说话。\n"
     ]
    }
   ],
   "source": [
    "class Animal: #创建Animal类\n",
    "    def __init__(self,name,weight,legNum): #定义初始化函数，其中self参数代表的是当前的实例对象本身。\n",
    "        self.name = name #对name属性进行初始化\n",
    "        self.weight = weight\n",
    "        self.legNum = legNum\n",
    "    def run(self):\n",
    "        print(\"我是%s，我在跑。\"%self.name)\n",
    "class Person(Animal): #定义Person类，继承Animal类\n",
    "    def speak(self):\n",
    "        print(\"我是%s，我会说话。\"%self.name)\n",
    "lily = Person(\"lily\",25,4)\n",
    "lily.run() #调用run()方法，子类继承父类中公有的成员变量和方法，私有的不能继承。\n",
    "lily.speak()"
   ]
  },
  {
   "cell_type": "markdown",
   "metadata": {},
   "source": [
    "### 重写方法"
   ]
  },
  {
   "cell_type": "code",
   "execution_count": 8,
   "metadata": {},
   "outputs": [
    {
     "name": "stdout",
     "output_type": "stream",
     "text": [
      "狗狗吃...\n"
     ]
    }
   ],
   "source": [
    "class Animal(object):\n",
    "    \"\"\"定义动物类\"\"\"\n",
    "    def __init__(self, age, sex=1, weight=0.0):\n",
    "        self.age = age\n",
    "        self.sex = sex\n",
    "        self.weight = weight\n",
    "\n",
    "    def eat(self): #①\n",
    "        self.weight += 0.05\n",
    "        print('动物吃...')\n",
    "\n",
    "\n",
    "class Dog (Animal): \n",
    "    def eat(self):  #②\n",
    "        self.weight += 0.1\n",
    "        print('狗狗吃...')\n",
    "\n",
    "\n",
    "a1 = Dog(2, 0, 10.0) \n",
    "a1.eat() \n"
   ]
  },
  {
   "cell_type": "markdown",
   "metadata": {},
   "source": [
    "### 例10 多态性\n",
    "#### 两个前提：\n",
    "#### 1．继承。多态发生一定是子类和父类之间。\n",
    "#### 2．重写。子类重写了父类的方法。"
   ]
  },
  {
   "cell_type": "code",
   "execution_count": 9,
   "metadata": {},
   "outputs": [
    {
     "name": "stdout",
     "output_type": "stream",
     "text": [
      "绘制Figure...\n",
      "绘制Ellipse...\n",
      "绘制Triangle...\n"
     ]
    }
   ],
   "source": [
    "# 几何图形\n",
    "class Figure:\n",
    "    def draw(self):\n",
    "        print('绘制Figure...')\n",
    "\n",
    "# 椭圆形\n",
    "class Ellipse(Figure):\n",
    "    def draw(self):\n",
    "        print('绘制Ellipse...')\n",
    "\n",
    "# 三角形\n",
    "class Triangle(Figure):\n",
    "    def draw(self):\n",
    "        print('绘制Triangle...')\n",
    "\n",
    "f1 = Figure() \n",
    "f1.draw()\n",
    "\n",
    "f2 = Ellipse() \n",
    "f2.draw()\n",
    "\n",
    "f3 = Triangle()\n",
    "f3.draw()"
   ]
  },
  {
   "cell_type": "markdown",
   "metadata": {},
   "source": [
    "### 本章作业\n",
    "#### 1.\t写一个 Circle 类，实现可以传入半径的构造方法。\n",
    "#### 2.实现 Circle 类的面积、周长的计算函数。"
   ]
  }
 ],
 "metadata": {
  "kernelspec": {
   "display_name": "Python 3 (ipykernel)",
   "language": "python",
   "name": "python3"
  },
  "language_info": {
   "codemirror_mode": {
    "name": "ipython",
    "version": 3
   },
   "file_extension": ".py",
   "mimetype": "text/x-python",
   "name": "python",
   "nbconvert_exporter": "python",
   "pygments_lexer": "ipython3",
   "version": "3.9.5"
  }
 },
 "nbformat": 4,
 "nbformat_minor": 4
}
