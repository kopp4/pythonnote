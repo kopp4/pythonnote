{
 "cells": [
  {
   "cell_type": "markdown",
   "metadata": {},
   "source": [
    "### 第13章 正则表达式\n",
    "#### 正则表达式（Regular Expression，常简写为regex,regexp,RE,re），是预先定义好的一个“规则字符串”，用来描述你想搜索的字符串的特征。\n",
    "#### Python中正则表达式的应用非常广泛，如数据挖掘、数据分析、网络爬虫、输入有效性验证等。\n",
    "#### re模块\n",
    "#### 在线验证，大家可以访问这个网址： https://regex101.com/"
   ]
  },
  {
   "cell_type": "markdown",
   "metadata": {},
   "source": [
    "### 13.1 \t正则表达式中字符\n",
    "+ 普通字符，按照字符字面意义表示的字符。\n",
    "+ 元字符，是预先定义好的一些特定字符，用来描述其他字符。"
   ]
  },
  {
   "cell_type": "markdown",
   "metadata": {},
   "source": [
    "### 表13-1 基本元字符\n",
    "|字符|说明|\n",
    "|---|---|\n",
    "|\\\\|转义符|\n",
    "|.|表示任意一个字符（除换行符）|\n",
    "|+|表示重复一次或多次|\n",
    "|* |表示重复零次或多次|\n",
    "|?|表示重复零次或一次|\n",
    "|\\||选择符号，表示“或关系”|\n",
    "|{}|定义量词|\n",
    "|[]|定义字符类|\n",
    "|()|定义分组|\n",
    "|^|表示取反或匹配一行的开始|\n",
    "|$|匹配一行的结束|"
   ]
  },
  {
   "cell_type": "markdown",
   "metadata": {},
   "source": [
    "#### 例1 开始与结束字符"
   ]
  },
  {
   "cell_type": "code",
   "execution_count": 5,
   "metadata": {},
   "outputs": [
    {
     "name": "stdout",
     "output_type": "stream",
     "text": [
      "<re.Match object; span=(16, 45), match='tony_guan588@zhijieketang.com'>\n",
      "None\n",
      "<re.Match object; span=(0, 29), match='tony_guan588@zhijieketang.com'>\n"
     ]
    }
   ],
   "source": [
    "# coding=utf-8\n",
    "# 代码文件：chapter14/ch14.1.3.py\n",
    "import re \n",
    "\n",
    "p1 = r'\\w+@zhijieketang\\.com' \n",
    "p2 = r'^\\w+@zhijieketang\\.com$' \n",
    "\n",
    "text = \"Tony's email is tony_guan588@zhijieketang.com.\"\n",
    "m = re.search(p1, text) \n",
    "print(m)  # 匹配\n",
    "\n",
    "m = re.search(p2, text) \n",
    "print(m)  # 不匹配\n",
    "\n",
    "email = 'tony_guan588@zhijieketang.com'\n",
    "m = re.search(p2, email)\n",
    "print(m)  # 匹配 "
   ]
  },
  {
   "cell_type": "markdown",
   "metadata": {},
   "source": [
    "### 13.2 字符类"
   ]
  },
  {
   "cell_type": "markdown",
   "metadata": {},
   "source": [
    "#### 例2 定义字符类"
   ]
  },
  {
   "cell_type": "code",
   "execution_count": 33,
   "metadata": {},
   "outputs": [
    {
     "name": "stdout",
     "output_type": "stream",
     "text": [
      "<re.Match object; span=(7, 11), match='Java'>\n",
      "None\n",
      "<re.Match object; span=(7, 11), match='java'>\n"
     ]
    }
   ],
   "source": [
    "# coding=utf-8\n",
    "# 代码文件：chapter14/ch14.1.3.py\n",
    "import re\n",
    "\n",
    "p = r'[Jj]ava'\n",
    "\n",
    "m = re.search(p, 'I like Java and Python.')\n",
    "print(m)  # 匹配\n",
    "\n",
    "m = re.search(p, 'I like JAVA and Python.')\n",
    "print(m)  # 不匹配\n",
    "\n",
    "m = re.search(p, 'I like java and Java.')\n",
    "print(m)  # 匹配\n"
   ]
  },
  {
   "cell_type": "markdown",
   "metadata": {},
   "source": [
    "#### 例3 字符类取反"
   ]
  },
  {
   "cell_type": "code",
   "execution_count": 7,
   "metadata": {},
   "outputs": [
    {
     "name": "stdout",
     "output_type": "stream",
     "text": [
      "None\n",
      "<re.Match object; span=(0, 1), match='P'>\n"
     ]
    }
   ],
   "source": [
    "# coding=utf-8\n",
    "# 代码文件：chapter14/ch14.2.2.py\n",
    "import re\n",
    "\n",
    "p = r'[^0123456789]'  #匹配非数字字符\n",
    "\n",
    "m = re.search(p, '1000')\n",
    "print(m)  # 不匹配\n",
    "\n",
    "m = re.search(p, 'Python 3')\n",
    "print(m)  # 匹配"
   ]
  },
  {
   "cell_type": "markdown",
   "metadata": {},
   "source": [
    "#### 例4 区间"
   ]
  },
  {
   "cell_type": "code",
   "execution_count": 10,
   "metadata": {},
   "outputs": [
    {
     "name": "stdout",
     "output_type": "stream",
     "text": [
      "<re.Match object; span=(0, 1), match='A'>\n",
      "None\n"
     ]
    }
   ],
   "source": [
    "# coding=utf-8\n",
    "# 代码文件：chapter14/ch14.2.3.py\n",
    "import re\n",
    "\n",
    "m = re.search(r'[A-Za-z0-9]', 'A10.3')\n",
    "print(m)  # 匹配\n",
    "\n",
    "m = re.search(r'[0-25-7]', 'A3489C')\n",
    "print(m)  # 不匹配\n"
   ]
  },
  {
   "cell_type": "markdown",
   "metadata": {},
   "source": [
    "#### 例5 预定义字符类（见书上表格）"
   ]
  },
  {
   "cell_type": "markdown",
   "metadata": {},
   "source": [
    "|字符|说明|\n",
    "|---|---|\n",
    "|.|匹配任意一个字符(除了换行符)|\n",
    "| \\\\\\ |匹配反斜杠\\字符|\n",
    "|\\n|匹配换行|\n",
    "|\\r|匹配回车|\n",
    "|\\f|匹配一个换页符|\n",
    "|\\t|匹配一个水平制表符|\n",
    "|\\v|匹配一个垂直制表符|\n",
    "|\\s|匹配一个空格符，等价于[\\t\\n\\r\\f\\v]|\n",
    "|\\S|匹配一个非空格符，等价于[^\\s]|\n",
    "|\\d|匹配一个数字字符，等价于[0-9]|\n",
    "|\\D|匹配一个非数字字符，等价于[^0-9]|\n",
    "|\\w|匹配任何语言的单词字符、数字和下划线等字符|\n",
    "|\\W|等价于[^\\w]|"
   ]
  },
  {
   "cell_type": "code",
   "execution_count": 13,
   "metadata": {},
   "outputs": [
    {
     "name": "stdout",
     "output_type": "stream",
     "text": [
      "None\n",
      "<re.Match object; span=(0, 1), match='P'>\n",
      "<re.Match object; span=(0, 1), match='你'>\n"
     ]
    }
   ],
   "source": [
    "# coding=utf-8\n",
    "# 代码文件：chapter14/ch14.2.4.py\n",
    "import re\n",
    "\n",
    "# p = r'[^0123456789]'\n",
    "p = r'\\D' \n",
    "\n",
    "m = re.search(p, '1000')\n",
    "print(m)  # 不匹配\n",
    "\n",
    "m = re.search(p, 'Python 3')\n",
    "print(m)  # 匹配\n",
    "\n",
    "text = '你们好Hello'\n",
    "m = re.search(r'\\w', text) \n",
    "print(m)  # 匹配\n"
   ]
  },
  {
   "cell_type": "markdown",
   "metadata": {},
   "source": [
    "### 13.3 量词"
   ]
  },
  {
   "cell_type": "markdown",
   "metadata": {},
   "source": [
    "|字符|说明|\n",
    "|---|---|\n",
    "|?|出现零次或一次|\n",
    "|* |出现零次或多次|\n",
    "|+|出现一次或多次|\n",
    "|{n}|出现零次或n次|\n",
    "|{n,m}|至少出现n次但不超过m次|\n",
    "|{n,}|至少出现n次|"
   ]
  },
  {
   "cell_type": "code",
   "execution_count": 25,
   "metadata": {},
   "outputs": [
    {
     "name": "stdout",
     "output_type": "stream",
     "text": [
      "<re.Match object; span=(0, 1), match='8'>\n",
      "<re.Match object; span=(0, 0), match=''>\n",
      "<re.Match object; span=(0, 8), match='87654321'>\n",
      "<re.Match object; span=(0, 0), match=''>\n",
      "<re.Match object; span=(0, 8), match='87654321'>\n",
      "None\n"
     ]
    }
   ],
   "source": [
    "# coding=utf-8\n",
    "# 代码文件：chapter14/ch14.3.1.py\n",
    "\n",
    "\n",
    "import re\n",
    "\n",
    "m = re.search(r'\\d?', '87654321')  # 出现数字一次\n",
    "print(m)  # 匹配字符'8'\n",
    "\n",
    "m = re.search(r'\\d?', 'ABC')  # 出现数字零次\n",
    "print(m)  # 匹配字符''\n",
    "\n",
    "m = re.search(r'\\d*', '87654321')  # 出现数字多次\n",
    "print(m)  # 匹配字符'87654321'\n",
    "\n",
    "m = re.search(r'\\d*', 'ABC')  # 出现数字零次\n",
    "print(m)  # 匹配字符''\n",
    "\n",
    "m = re.search(r'\\d+', '87654321')  # 出现数字多次\n",
    "print(m)  # 匹配字符'87654321'\n",
    "\n",
    "m = re.search(r'\\d+', 'ABC')\n",
    "print(m)  # 不匹配\n"
   ]
  },
  {
   "cell_type": "markdown",
   "metadata": {},
   "source": [
    "#### 贪婪量词和懒惰量词"
   ]
  },
  {
   "cell_type": "code",
   "execution_count": 17,
   "metadata": {},
   "outputs": [
    {
     "name": "stdout",
     "output_type": "stream",
     "text": [
      "<re.Match object; span=(0, 8), match='87654321'>\n",
      "<re.Match object; span=(0, 5), match='87654'>\n"
     ]
    }
   ],
   "source": [
    "# coding=utf-8\n",
    "# 代码文件：chapter14/ch14.3.2.py\n",
    "\n",
    "\n",
    "import re\n",
    "\n",
    "# 使用贪婪量词\n",
    "m = re.search(r'\\d{5,8}', '87654321')  # 出现数字8次 ①\n",
    "print(m)  # 匹配字符'87654321'\n",
    "\n",
    "# 使用惰性量词，在量词后面加“?”\n",
    "m = re.search(r'\\d{5,8}?', '87654321')  # 出现数字5次 ②\n",
    "print(m)  # 匹配字符'87654'\n"
   ]
  },
  {
   "cell_type": "markdown",
   "metadata": {},
   "source": [
    "### 13.4 分组\n",
    "在此之前学习的量词只能重复显示一个字符，如果想让一个字符串作为整体使用量词，可将这个字符串放到一对小括号中，这就是分组。\n",
    "#### 13.4.1 使用分组"
   ]
  },
  {
   "cell_type": "code",
   "execution_count": 16,
   "metadata": {},
   "outputs": [
    {
     "name": "stdout",
     "output_type": "stream",
     "text": [
      "<re.Match object; span=(0, 6), match='121121'>\n",
      "121121\n",
      "121\n",
      "<re.Match object; span=(0, 12), match='010-87654321'>\n",
      "010-87654321\n",
      "('010', '87654321')\n"
     ]
    }
   ],
   "source": [
    "# coding=utf-8\n",
    "# 代码文件：chapter14/ch14.4.1.py\n",
    "\n",
    "\n",
    "import re\n",
    "\n",
    "p = r'(121){2}' #①\n",
    "m = re.search(p, '121121abcabc')\n",
    "print(m)  # 匹配\n",
    "print(m.group())  # 返回匹配字符串 #②\n",
    "print(m.group(1))  # 获得第一组内容 #③ 组编号从1开始\n",
    "\n",
    "p = r'(\\d{3,4})-(\\d{7,8})' #④\n",
    "m = re.search(p, '010-87654321')\n",
    "print(m)  # 匹配\n",
    "print(m.group())  # 返回匹配字符串\n",
    "print(m.groups())  # 获得所有组内容 #⑤"
   ]
  },
  {
   "cell_type": "markdown",
   "metadata": {},
   "source": [
    "#### 13.4.2 分组的命名\n",
    "通过在组开头添加“?P<分组名>”实现。"
   ]
  },
  {
   "cell_type": "code",
   "execution_count": 19,
   "metadata": {},
   "outputs": [
    {
     "name": "stdout",
     "output_type": "stream",
     "text": [
      "<re.Match object; span=(0, 12), match='010-87654321'>\n",
      "010-87654321\n",
      "('010', '87654321')\n",
      "010\n",
      "87654321\n",
      "010\n",
      "87654321\n"
     ]
    }
   ],
   "source": [
    "# coding=utf-8\n",
    "# 代码文件：chapter14/ch14.4.2.py\n",
    "import re\n",
    "\n",
    "p = r'(?P<area_code>\\d{3,4})-(?P<phone_code>\\d{7,8})' #①\n",
    "m = re.search(p, '010-87654321')\n",
    "print(m)  # 匹配\n",
    "print(m.group())  # 返回匹配字符串\n",
    "print(m.groups())  # 获得所有组内容\n",
    "\n",
    "# 通过组编号返回组内容\n",
    "print(m.group(1)) \n",
    "print(m.group(2))\n",
    "\n",
    "# 通过组名返回组内容\n",
    "print(m.group('area_code')) #②\n",
    "print(m.group('phone_code')) #③\n"
   ]
  },
  {
   "cell_type": "markdown",
   "metadata": {},
   "source": [
    "#### 13.4.3 反向引用分组\n",
    "#### 反向引用的语法是“\\组编号”\n",
    "#### 例：若想解析一段XML代码，就需要找到某一个开始标签和结束标签。"
   ]
  },
  {
   "cell_type": "code",
   "execution_count": 14,
   "metadata": {},
   "outputs": [
    {
     "name": "stdout",
     "output_type": "stream",
     "text": [
      "<re.Match object; span=(0, 10), match='<a>abc</a>'>\n",
      "<re.Match object; span=(0, 16), match='<html>abc</html>'>\n",
      "<re.Match object; span=(0, 10), match='<a>abc</b>'>\n"
     ]
    }
   ],
   "source": [
    "# coding=utf-8\n",
    "# 代码文件：chapter14/ch14.4.3.py\n",
    "import re\n",
    "\n",
    "p = r'<([\\w]+)>.*</([\\w]+)>' #①\n",
    "\n",
    "m = re.search(p, '<a>abc</a>') #②\n",
    "print(m)  # 匹配\n",
    "\n",
    "m = re.search(p, '<html>abc</html>') #②\n",
    "print(m)  # 匹配\n",
    "\n",
    "m = re.search(p, '<a>abc</b>') #③\n",
    "print(m)  # 匹配\n"
   ]
  },
  {
   "cell_type": "code",
   "execution_count": 15,
   "metadata": {},
   "outputs": [
    {
     "name": "stdout",
     "output_type": "stream",
     "text": [
      "<re.Match object; span=(0, 10), match='<a>abc</a>'>\n",
      "<re.Match object; span=(0, 12), match='<h1>abc</h1>'>\n",
      "None\n"
     ]
    }
   ],
   "source": [
    "# coding=utf-8\n",
    "# 代码文件：chapter14/ch14.4.3.py\n",
    "import re\n",
    "\n",
    "p = r'<([\\w]+)>.*</\\1>' #使用反向引用\n",
    "\n",
    "m = re.search(p, '<a>abc</a>') \n",
    "print(m)  # 匹配\n",
    "\n",
    "m = re.search(p, '<h1>abc</h1>') \n",
    "print(m)  # 匹配\n",
    "\n",
    "m = re.search(p, '<a>abc</b>') \n",
    "print(m)  # 不匹配"
   ]
  },
  {
   "cell_type": "markdown",
   "metadata": {},
   "source": [
    "#### 13.4.4 非捕获分组\n",
    "前面介绍的分组称为捕获分组，捕获分组的匹配子表达式结果被暂时保存到内存中，以备表达式或其他程序引用；如果想将小括号内作为一个整体进行匹配，可以使用非捕获分组，在组开头使用“?:”。"
   ]
  },
  {
   "cell_type": "code",
   "execution_count": 21,
   "metadata": {},
   "outputs": [
    {
     "name": "stdout",
     "output_type": "stream",
     "text": [
      "['.jpg', '.jpg']\n",
      "['img1.jpg', 'img2.jpg']\n",
      "['img1.jpg', 'img2.jpg']\n"
     ]
    }
   ],
   "source": [
    "# coding=utf-8\n",
    "# 代码文件：chapter14/ch14.4.4.py\n",
    "\n",
    "\n",
    "import re\n",
    "\n",
    "s = 'img1.jpg,img2.jpg,img3.bmp'\n",
    "\n",
    "#捕获分组\n",
    "p = r'\\w+(\\.jpg)' # ①\n",
    "mlist = re.findall(p, s)\n",
    "print(mlist)\n",
    "\n",
    "#非捕获分组\n",
    "p = r'\\w+(?:\\.jpg)' # ②\n",
    "mlist = re.findall(p, s)\n",
    "print(mlist)\n",
    "\n",
    "p = r'\\w+\\.jpg' # ③\n",
    "mlist = re.findall(p, s)\n",
    "print(mlist)\n"
   ]
  },
  {
   "cell_type": "markdown",
   "metadata": {},
   "source": [
    "### 13.5 re模块\n",
    "#### 13.5.1  search()和match()函数\n",
    "+ search()。在输入字符串中查找，返回第一个匹配内容。如果找到则返回match对象，如果没有找到则返回None。\n",
    "+ match()。在输入字符串开始处查找匹配内容，如果找到则返回match对象，如果没有找到则返回None。"
   ]
  },
  {
   "cell_type": "code",
   "execution_count": 18,
   "metadata": {},
   "outputs": [
    {
     "name": "stdout",
     "output_type": "stream",
     "text": [
      "<re.Match object; span=(16, 45), match='tony_guan588@zhijieketang.com'>\n",
      "None\n",
      "<re.Match object; span=(0, 29), match='tony_guan588@zhijieketang.com'>\n",
      "<re.Match object; span=(0, 29), match='tony_guan588@zhijieketang.com'>\n",
      "match对象几个方法\n",
      "tony_guan588@zhijieketang.com\n",
      "0\n",
      "29\n",
      "(0, 29)\n"
     ]
    }
   ],
   "source": [
    "# coding=utf-8\n",
    "# 代码文件：chapter14/ch14.5.1.py\n",
    "import re\n",
    "\n",
    "p = r'\\w+@zhijieketang\\.com'\n",
    "\n",
    "text = \"Tony's email is tony_guan588@zhijieketang.com.\" # ①\n",
    "m = re.search(p, text)\n",
    "print(m)  # 匹配\n",
    "\n",
    "m = re.match(p, text)\n",
    "print(m)  # 不匹配\n",
    "\n",
    "email = 'tony_guan588@zhijieketang.com' # ②\n",
    "m = re.search(p, email)\n",
    "print(m)  # 匹配\n",
    "\n",
    "m = re.match(p, email)\n",
    "print(m)  # 匹配\n",
    "\n",
    "# match对象常用的几个方法：\n",
    "print(\"match对象几个方法\")\n",
    "print(m.group()) #返回匹配的子字符串\n",
    "print(m.start()) #返回匹配的子字符串的开始索引\n",
    "print(m.end())   #返回匹配的子字符串的结束索引\n",
    "print(m.span())  #返回匹配的子字符串的跨度"
   ]
  },
  {
   "cell_type": "markdown",
   "metadata": {},
   "source": [
    "#### 13.5.2 findall()和finditer()函数\n",
    "+ findall()。在输入字符串中查找所有匹配内容。如果匹配成功，则返回match列表对象；如果匹配失败则返回None。\n",
    "+ finditer()。在输入字符串中查找所有匹配内容，如果匹配成功，则返回容纳match的可迭代对象，通过迭代对象每次可以返回一个match对象。如果匹配失败则返回None。"
   ]
  },
  {
   "cell_type": "code",
   "execution_count": 19,
   "metadata": {},
   "outputs": [
    {
     "name": "stdout",
     "output_type": "stream",
     "text": [
      "['Java', 'java']\n",
      "Java\n",
      "java\n"
     ]
    }
   ],
   "source": [
    "# coding=utf-8\n",
    "# 代码文件：chapter14/ch14.5.2.py\n",
    "\n",
    "\n",
    "import re\n",
    "\n",
    "p = r'[Jj]ava'\n",
    "text = 'I like Java and java.'\n",
    "\n",
    "match_list = re.findall(p, text) \n",
    "print(match_list) \n",
    "\n",
    "match_iter = re.finditer(p, text) \n",
    "for m in match_iter: \n",
    "    print(m.group())\n"
   ]
  },
  {
   "cell_type": "markdown",
   "metadata": {},
   "source": [
    "#### 13.5.3 字符串分割\n",
    "#### 使用split()函数，该函数按照匹配的子字符串来分割字符串，并返回字符串列表对象。\n",
    "re.split(pattern,string,maxsplit=0,flags=0)"
   ]
  },
  {
   "cell_type": "code",
   "execution_count": 22,
   "metadata": {},
   "outputs": [
    {
     "name": "stdout",
     "output_type": "stream",
     "text": [
      "['AB', 'CD', 'EF']\n",
      "['AB', 'CD34EF']\n",
      "['AB', 'CD', 'EF']\n"
     ]
    }
   ],
   "source": [
    "# coding=utf-8\n",
    "# 代码文件：chapter12chapter14/ch14.5.3.py\n",
    "\n",
    "\n",
    "import re\n",
    "\n",
    "p = r'\\d+'\n",
    "text = 'AB12CD34EF'\n",
    "\n",
    "clist = re.split(p, text) # ①\n",
    "print(clist)\n",
    "\n",
    "clist = re.split(p, text, maxsplit=1) # ②\n",
    "print(clist)\n",
    "\n",
    "clist = re.split(p, text, maxsplit=2) # ③\n",
    "print(clist)"
   ]
  },
  {
   "cell_type": "markdown",
   "metadata": {},
   "source": [
    "#### 13.5.4 字符串替换"
   ]
  },
  {
   "cell_type": "code",
   "execution_count": 24,
   "metadata": {},
   "outputs": [
    {
     "name": "stdout",
     "output_type": "stream",
     "text": [
      "AB CD EF\n",
      "AB*CD34EF\n",
      "AB CD EF\n"
     ]
    }
   ],
   "source": [
    "# coding=utf-8\n",
    "# 代码文件：chapter12chapter14/ch14.5.4.py\n",
    "\n",
    "\n",
    "import re\n",
    "\n",
    "p = r'\\d+'\n",
    "text = 'AB12CD34EF'\n",
    "\n",
    "repace_text = re.sub(p, ' ', text) # ①\n",
    "print(repace_text)\n",
    "\n",
    "repace_text = re.sub(p, '*', text, count=1) # ②\n",
    "print(repace_text)\n",
    "\n",
    "repace_text = re.sub(p, ' ', text, count=2) # ③\n",
    "print(repace_text)"
   ]
  },
  {
   "cell_type": "markdown",
   "metadata": {},
   "source": [
    "### 13.6 编译正则表达式"
   ]
  },
  {
   "cell_type": "code",
   "execution_count": null,
   "metadata": {},
   "outputs": [],
   "source": []
  },
  {
   "cell_type": "markdown",
   "metadata": {},
   "source": [
    "### 作业1 从下面这段文字中提取出所有颜色信息。"
   ]
  },
  {
   "cell_type": "code",
   "execution_count": null,
   "metadata": {},
   "outputs": [],
   "source": [
    "# 提取颜色\n",
    "content = '''苹果是绿色的\n",
    "橙子是橙色的\n",
    "香蕉是黄色的\n",
    "乌鸦是黑色的'''\n",
    "\n",
    "import re"
   ]
  },
  {
   "cell_type": "markdown",
   "metadata": {},
   "source": [
    "### 作业2 从下面这段文字中匹配出QQ密码。"
   ]
  },
  {
   "cell_type": "code",
   "execution_count": null,
   "metadata": {},
   "outputs": [],
   "source": [
    "content='''我的微博密码是：1234567，\n",
    "QQ密码是：33445566，\n",
    "银行卡密码是：888888，\n",
    "Github密码是：999abc999，帮我记住它们'''\n"
   ]
  },
  {
   "cell_type": "markdown",
   "metadata": {},
   "source": [
    "### 作业3 从下面这段文字中提取出所有的薪资信息。"
   ]
  },
  {
   "cell_type": "code",
   "execution_count": 1,
   "metadata": {},
   "outputs": [],
   "source": [
    "content = '''\n",
    "Python3 高级开发工程师 上海互教教育科技有限公司上海-浦东新区2万/月02-18满员\n",
    "测试开发工程师（C++/python） 上海墨鹍数码科技有限公司上海-浦东新区2.5万/每月02-18未满员\n",
    "Python3 开发工程师 上海德拓信息技术股份有限公司上海-徐汇区1.3万/每月02-18剩余11人\n",
    "测试开发工程师（Python） 赫里普（上海）信息科技有限公司上海-浦东新区1.1万/每月02-18剩余5人\n",
    "Python高级开发工程师 上海行动教育科技股份有限公司上海-闵行区2.8万/月02-18剩余255人\n",
    "python开发工程师 上海优似腾软件开发有限公司上海-浦东新区2.5万/每月02-18满员\n",
    "python开发工程师 上海优乐美软件开发有限公司上海-浦东新区5万/每月02-18满员\n",
    "'''"
   ]
  },
  {
   "cell_type": "markdown",
   "metadata": {},
   "source": [
    "### 从上面的例子可以看出， 用正则表达式关键的地方在于， 如何写出正确的表达式语法 。"
   ]
  }
 ],
 "metadata": {
  "kernelspec": {
   "display_name": "Python 3 (ipykernel)",
   "language": "python",
   "name": "python3"
  },
  "language_info": {
   "codemirror_mode": {
    "name": "ipython",
    "version": 3
   },
   "file_extension": ".py",
   "mimetype": "text/x-python",
   "name": "python",
   "nbconvert_exporter": "python",
   "pygments_lexer": "ipython3",
   "version": "3.9.5"
  }
 },
 "nbformat": 4,
 "nbformat_minor": 4
}
