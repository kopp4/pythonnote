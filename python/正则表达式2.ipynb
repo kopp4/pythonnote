{
 "cells": [
  {
   "cell_type": "markdown",
   "metadata": {},
   "source": [
    "### 作业1 从下面这段文字中提取出所有颜色信息。"
   ]
  },
  {
   "cell_type": "code",
   "execution_count": 1,
   "metadata": {},
   "outputs": [
    {
     "name": "stdout",
     "output_type": "stream",
     "text": [
      "['绿色', '橙色', '黄色', '黑色']\n",
      "绿色\n",
      "橙色\n",
      "黄色\n",
      "黑色\n"
     ]
    }
   ],
   "source": [
    "# 提取颜色\n",
    "content = '''苹果是绿色的\n",
    "橙子是橙色的\n",
    "香蕉是黄色的\n",
    "乌鸦是黑色的'''\n",
    "\n",
    "import re\n",
    "p=r'.色'\n",
    "match_list = re.findall(p,content)\n",
    "print(match_list)\n",
    "for m in match_list:\n",
    "    print(m)"
   ]
  },
  {
   "cell_type": "markdown",
   "metadata": {},
   "source": [
    "### 作业2 从下面这段文字中匹配出QQ密码。"
   ]
  },
  {
   "cell_type": "code",
   "execution_count": 2,
   "metadata": {},
   "outputs": [
    {
     "name": "stdout",
     "output_type": "stream",
     "text": [
      "33445566\n"
     ]
    }
   ],
   "source": [
    "content='''我的微博密码是：1234567，\n",
    "QQ密码是：33445566，\n",
    "银行卡密码是：888888，\n",
    "Github密码是：999abc999，帮我记住它们'''\n",
    "import re\n",
    "p=r'QQ密码是：(.*)，'\n",
    "match_list = re.findall(p,content)\n",
    "for m in match_list:\n",
    "    print(m)"
   ]
  },
  {
   "cell_type": "markdown",
   "metadata": {},
   "source": [
    "### 作业3 从下面这段文字中提取出所有的薪资信息。"
   ]
  },
  {
   "cell_type": "code",
   "execution_count": 3,
   "metadata": {},
   "outputs": [
    {
     "name": "stdout",
     "output_type": "stream",
     "text": [
      "2\n",
      "2.5\n",
      "1.3\n",
      "1.1\n",
      "2.8\n",
      "2.5\n",
      "500\n"
     ]
    }
   ],
   "source": [
    "content = '''\n",
    "Python3 高级开发工程师 上海互教教育科技有限公司上海-浦东新区2万/月02-18满员\n",
    "测试开发工程师（C++/python） 上海墨鹍数码科技有限公司上海-浦东新区2.5万/每月02-18未满员\n",
    "Python3 开发工程师 上海德拓信息技术股份有限公司上海-徐汇区1.3万/每月02-18剩余11人\n",
    "测试开发工程师（Python） 赫里普（上海）信息科技有限公司上海-浦东新区1.1万/每月02-18剩余5人\n",
    "Python高级开发工程师 上海行动教育科技股份有限公司上海-闵行区2.8万/月02-18剩余255人\n",
    "python开发工程师 上海优似腾软件开发有限公司上海-浦东新区2.5万/每月02-18满员\n",
    "python开发工程师 上海优乐美软件开发有限公司上海-浦东新区500万/每月02-18满员\n",
    "'''\n",
    "import re\n",
    "p=r'([\\d.]+)万/每{0,1}月' # 中括号中的特殊字符会认为是普通字符，如小数点.。但^-\\这三个特殊符号保留特殊含义，想要匹配加转义符。\n",
    "match_list = re.findall(p,content)\n",
    "for m in match_list:\n",
    "    print(m)"
   ]
  },
  {
   "cell_type": "markdown",
   "metadata": {},
   "source": [
    "### 补充：比较\".*\"和\".*?\"的区别。"
   ]
  },
  {
   "cell_type": "code",
   "execution_count": 4,
   "metadata": {},
   "outputs": [
    {
     "name": "stdout",
     "output_type": "stream",
     "text": [
      "密码是 ['1234567', '33445566', '888888', '999abc999']\n",
      "4\n",
      "密码是 ['1234567，QQ密码是：33445566，银行卡密码是：888888，Github密码是：999abc999']\n",
      "1\n"
     ]
    }
   ],
   "source": [
    "import re\n",
    "\n",
    "account_content='''我的微博密码是：1234567，QQ密码是：33445566，银行卡密码是：888888，Github密码是：999abc999，帮我记住它们'''\n",
    "\n",
    "account_password=re.findall('密码是：(.*?)，',account_content) # 懒惰模式\n",
    "print('密码是',format(account_password))\n",
    "print(len(account_password))\n",
    "\n",
    "account_password=re.findall('密码是：(.*)，',account_content)\n",
    "print('密码是',format(account_password))\n",
    "print(len(account_password))"
   ]
  },
  {
   "cell_type": "markdown",
   "metadata": {},
   "source": [
    "### 补充：正则表达式re.S的用法\n",
    "正则表达式中，“.”的作用是匹配除“\\n”以外的任何字符，也就是说，它是在一行中进行匹配。这里的“行”是以“\\n”进行区分的。\n",
    "如果不使用re.S参数，则只在每一行内进行匹配，如果一行没有，就换下一行重新开始，不会跨行。而使用re.S参数以后，正则表达式会将这个字符串作为一个整体，将“\\n”当做一个普通的字符加入到这个字符串中，在整体中进行匹配。"
   ]
  },
  {
   "cell_type": "code",
   "execution_count": 5,
   "metadata": {},
   "outputs": [
    {
     "name": "stdout",
     "output_type": "stream",
     "text": [
      "b is  []\n",
      "c is  ['pass:\\n    234455\\n    ']\n"
     ]
    }
   ],
   "source": [
    "import re\n",
    "a = '''asdfsafhellopass:\n",
    "    234455\n",
    "    worldafdsf\n",
    "    '''\n",
    "b = re.findall('hello(.*?)world',a)\n",
    "c = re.findall('hello(.*?)world',a,re.S)\n",
    "print ('b is ' , b)\n",
    "print ('c is ' , c)"
   ]
  },
  {
   "cell_type": "markdown",
   "metadata": {},
   "source": [
    "### 作业4 目标：先抓大后抓小。（提示：搜索正则表达式re.S的用法）\n",
    "#### 内容：设计一个实验来提取下列内容中有效用户的姓名：\n",
    "##### 有效用户:\n",
    "##### 姓名: 张三\n",
    "##### 姓名: 李四\n",
    "##### 姓名: 王五\n",
    "##### 无效用户:\n",
    "##### 姓名: 不知名的小虾米\n",
    "##### 姓名: 隐身的张大侠"
   ]
  },
  {
   "cell_type": "code",
   "execution_count": null,
   "metadata": {},
   "outputs": [],
   "source": []
  }
 ],
 "metadata": {
  "kernelspec": {
   "display_name": "Python 3 (ipykernel)",
   "language": "python",
   "name": "python3"
  },
  "language_info": {
   "codemirror_mode": {
    "name": "ipython",
    "version": 3
   },
   "file_extension": ".py",
   "mimetype": "text/x-python",
   "name": "python",
   "nbconvert_exporter": "python",
   "pygments_lexer": "ipython3",
   "version": "3.9.5"
  }
 },
 "nbformat": 4,
 "nbformat_minor": 4
}
