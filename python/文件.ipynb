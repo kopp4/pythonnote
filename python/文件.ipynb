{
 "cells": [
  {
   "cell_type": "code",
   "execution_count": 2,
   "metadata": {},
   "outputs": [
    {
     "name": "stdout",
     "output_type": "stream",
     "text": [
      "D:\\PyJupyter\\IoT19\n"
     ]
    }
   ],
   "source": [
    "# 查看当前工作路径\n",
    "import os\n",
    "print(os.getcwd())"
   ]
  },
  {
   "cell_type": "markdown",
   "metadata": {},
   "source": [
    "### 读文件\n",
    "#### 读文件一般有四种方式，即 read, readline， readlines 和迭代。"
   ]
  },
  {
   "cell_type": "code",
   "execution_count": 5,
   "metadata": {},
   "outputs": [
    {
     "name": "stdout",
     "output_type": "stream",
     "text": [
      "Python is a great language.\n",
      "This is a testfile.\n"
     ]
    }
   ],
   "source": [
    "# 查看文件内容，如果是用绝对路径，建议原始字符串表示\n",
    "#只读模式，如果打开的文件不存在，就会抛出错误\n",
    "file = open(r'C:\\Users\\Administrator\\Documents\\testfile.txt','r') \n",
    "result = file.read() #read()可以一次性读取文件中的所有内容。\n",
    "print(result)\n",
    "file.close()"
   ]
  },
  {
   "cell_type": "code",
   "execution_count": 1,
   "metadata": {},
   "outputs": [
    {
     "name": "stdout",
     "output_type": "stream",
     "text": [
      "2020-11-11 10：30：00 我们在上海迪士尼南门口见。\n"
     ]
    }
   ],
   "source": [
    "file = open(r'C:\\Users\\Administrator\\Desktop\\t1.txt','r') \n",
    "result = file.read() #read()可以一次性读取文件中的所有内容。\n",
    "print(result)\n",
    "file.close()"
   ]
  },
  {
   "cell_type": "code",
   "execution_count": 8,
   "metadata": {},
   "outputs": [
    {
     "name": "stdout",
     "output_type": "stream",
     "text": [
      "Python is a great language.\n",
      "\n"
     ]
    }
   ],
   "source": [
    "file = open(r'C:\\Users\\Administrator\\Documents\\testfile.txt','r')\n",
    "result = file.readline() #readline 一次会读入一整行，也就是说遇到换行符 \\n 会返回一次\n",
    "print(result)\n",
    "file.close()"
   ]
  },
  {
   "cell_type": "code",
   "execution_count": 9,
   "metadata": {},
   "outputs": [
    {
     "name": "stdout",
     "output_type": "stream",
     "text": [
      "['Python is a great language.\\n', 'This is a testfile.']\n"
     ]
    }
   ],
   "source": [
    "file = open(r'C:\\Users\\Administrator\\Documents\\testfile.txt','r')\n",
    "result = file.readlines() #readlines默认读到最后一行,返回的是列表，文件中每一行作为一个元素\n",
    "print(result)\n",
    "file.close()"
   ]
  },
  {
   "cell_type": "code",
   "execution_count": 4,
   "metadata": {},
   "outputs": [
    {
     "name": "stdout",
     "output_type": "stream",
     "text": [
      "Python is a great language.\n",
      "This is a testfile."
     ]
    }
   ],
   "source": [
    "# 文件对象本身也是一个可迭代对象,它的元素是一行\n",
    "file = open(r'C:\\Users\\Administrator\\Documents\\testfile.txt','r')\n",
    "for line in file:\n",
    "    print(line,end=\"\") # 文件中每一行本身有一个换行所以用end=\"\"让print不换行\n",
    "file.close()"
   ]
  },
  {
   "cell_type": "markdown",
   "metadata": {},
   "source": [
    "#### 补充：遇到大文件的时候，不用read()方法，因为它将文件的所有内容都读取到内存中，内存可能会被撑破；应该用迭代的方法，每次读取一行。"
   ]
  },
  {
   "cell_type": "markdown",
   "metadata": {},
   "source": [
    "### 写文件\n",
    "#### 有 write，writelines 和 flush"
   ]
  },
  {
   "cell_type": "code",
   "execution_count": 5,
   "metadata": {},
   "outputs": [],
   "source": [
    "file2 = open('file2.txt','w')\n",
    "file2.write('hello world!\\n') # 写入的时候要自己添加换行符\n",
    "file2.write('hello tomorrow!\\n')\n",
    "file2.writelines(('ooo\\n','kkk\\n'))\n",
    "file2.close()"
   ]
  },
  {
   "cell_type": "code",
   "execution_count": 6,
   "metadata": {},
   "outputs": [],
   "source": [
    "# 如果我们想在不关闭文件的前提下把内容写入到文件中，可以使用 flush\n",
    "# 最好用with语句打开文件，不管有无异常都会关闭文件\n",
    "with open('file2.txt','a') as file:\n",
    "    file.write(\"i like python\")"
   ]
  },
  {
   "cell_type": "markdown",
   "metadata": {},
   "source": [
    "### 对文件进行读写，要注意编码格式，如果编码格式不对，不能正确读写。\n",
    "### 例1   向文本文件中写入内容，然后再读出。"
   ]
  },
  {
   "cell_type": "code",
   "execution_count": 8,
   "metadata": {},
   "outputs": [
    {
     "name": "stdout",
     "output_type": "stream",
     "text": [
      "Hello world\n",
      "文本文件的读取方法\n",
      "文本文件的写入方法\n",
      "\n"
     ]
    }
   ],
   "source": [
    "s = 'Hello world\\n文本文件的读取方法\\n文本文件的写入方法\\n'\n",
    "\n",
    "with open('sample.txt', 'w',encoding='utf8') as fp:    #默认使用cp936编码,和gbk兼容\n",
    "    fp.write(s)\n",
    "\n",
    "with open('sample.txt',encoding='utf8') as fp:         #默认使用cp936编码\n",
    "    print(fp.read())\n"
   ]
  },
  {
   "cell_type": "markdown",
   "metadata": {},
   "source": [
    "### 例2 遍历并输出文本文件的所有行内容。"
   ]
  },
  {
   "cell_type": "code",
   "execution_count": 11,
   "metadata": {},
   "outputs": [
    {
     "name": "stdout",
     "output_type": "stream",
     "text": [
      "Hello world\n",
      "文本文件的读取方法\n",
      "文本文件的写入方法\n"
     ]
    }
   ],
   "source": [
    "with open('sample.txt') as fp:      #假设文件采用CP936编码\n",
    "    for line in fp:                 #文件对象可以直接迭代\n",
    "        print(line.rstrip('\\n'))\n"
   ]
  },
  {
   "cell_type": "markdown",
   "metadata": {},
   "source": [
    "### 例3 文件复制——文本文件的读写操作"
   ]
  },
  {
   "cell_type": "code",
   "execution_count": 2,
   "metadata": {},
   "outputs": [
    {
     "name": "stdout",
     "output_type": "stream",
     "text": [
      "['Hello world\\n', '文本文件的读取方法\\n', '文本文件的写入方法\\n']\n",
      "文件复制成功\n"
     ]
    }
   ],
   "source": [
    "f_name = 'sample.txt'\n",
    "\n",
    "with open(f_name, 'r', encoding='utf-8') as f: \n",
    "    lines = f.readlines() \n",
    "    print(lines)\n",
    "    copy_f_name = 'copy.txt'\n",
    "    with open(copy_f_name, 'w', encoding='utf-8') as copy_f: \n",
    "        copy_f.writelines(lines) \n",
    "        print('文件复制成功')\n"
   ]
  },
  {
   "cell_type": "markdown",
   "metadata": {},
   "source": [
    "### 例3 文件复制——二进制文件的读写操作"
   ]
  },
  {
   "cell_type": "code",
   "execution_count": 3,
   "metadata": {},
   "outputs": [
    {
     "name": "stdout",
     "output_type": "stream",
     "text": [
      "文件复制成功\n"
     ]
    }
   ],
   "source": [
    "f_name = r'C:\\Users\\Public\\Pictures\\python.jpg'\n",
    "\n",
    "with open(f_name, 'rb') as f: \n",
    "    b = f.read()\n",
    "    copy_f_name = 'copy.jpg'\n",
    "    with open(copy_f_name, 'wb') as copy_f: \n",
    "        copy_f.write(b) \n",
    "        print('文件复制成功')\n"
   ]
  },
  {
   "cell_type": "markdown",
   "metadata": {},
   "source": [
    "### 例4 假设文件data.txt中有若干整数，所有整数之间使用英文逗号分隔，编写程序读取所有整数，将其按升序排序后再写入文本文件data_asc.txt中。"
   ]
  },
  {
   "cell_type": "code",
   "execution_count": 12,
   "metadata": {},
   "outputs": [
    {
     "name": "stdout",
     "output_type": "stream",
     "text": [
      "55,99,13,6,4,77,8\n"
     ]
    }
   ],
   "source": [
    "with open('data.txt', 'r') as fp:\n",
    "    data = fp.readlines()                         #读取所有行\n",
    "data = [line.strip() for line in data]            #删除每行两侧的空白字符\n",
    "data = ','.join(data)                             #合并所有行\n",
    "print(data)\n",
    "data = data.split(',')                            #分隔得到所有数字字符串\n",
    "data = [int(item) for item in data]               #转换为数字\n",
    "data.sort()                                       #升序排序\n",
    "data = ','.join(map(str,data))                    #将结果转换为字符串\n",
    "with open('data_asc.txt', 'w') as fp:             #将结果写入文件\n",
    "    fp.write(data)\n"
   ]
  },
  {
   "cell_type": "markdown",
   "metadata": {},
   "source": [
    "### 例9-16   使用扩展库openpyxl读写Excel 2007以及更高版本的文件。"
   ]
  },
  {
   "cell_type": "code",
   "execution_count": 16,
   "metadata": {
    "scrolled": true
   },
   "outputs": [
    {
     "name": "stdout",
     "output_type": "stream",
     "text": [
      "这是第一个单元格\n"
     ]
    }
   ],
   "source": [
    "import openpyxl\n",
    "from openpyxl import Workbook\n",
    "fn = r'D:\\PyJupyter\\IoT19\\test.xlsx'                       #文件名\n",
    "wb = Workbook()                            #创建工作簿\n",
    "ws = wb.create_sheet(title='你好，世界')    #创建工作表\n",
    "ws['A1'] = '这是第一个单元格'                #单元格赋值\n",
    "ws['B1'] = 3.1415926\n",
    "wb.save(fn)                                 #保存Excel文件\n",
    "wb = openpyxl.load_workbook(fn)             #打开已有的Excel文件\n",
    "ws = wb.worksheets[1]                       #打开指定索引的工作表\n",
    "print(ws['A1'].value)                       #读取并输出指定单元格的值\n",
    "ws.append([1,2,3,4,5])                      #添加一行数据\n",
    "ws.merge_cells('F2:F3')                     #合并单元格\n",
    "ws['F2'] = \"=sum(A2:E2)\"                    #写入公式\n",
    "for r in range(10,15):\n",
    "    for c in range(3,8):\n",
    "        ws.cell(row=r, column=c, value=r*c) #写入单元格数据\n",
    "wb.save(fn)\n"
   ]
  },
  {
   "cell_type": "markdown",
   "metadata": {},
   "source": [
    "### 随堂作业：游戏时间：修改文件内容。先读取文件中的内容：2020-11-11 10：30：00 我们在上海迪士尼南门口见。时间改为：2020-11-15，地点改为：上海海洋水族馆。"
   ]
  },
  {
   "cell_type": "code",
   "execution_count": null,
   "metadata": {},
   "outputs": [],
   "source": []
  },
  {
   "cell_type": "markdown",
   "metadata": {},
   "source": [
    "### 定位读写\n",
    "#### 使用 tell 和 seek。"
   ]
  },
  {
   "cell_type": "code",
   "execution_count": 5,
   "metadata": {},
   "outputs": [
    {
     "name": "stdout",
     "output_type": "stream",
     "text": [
      "54\n"
     ]
    }
   ],
   "source": [
    "file = open('file2.txt','a')\n",
    "print(file.tell()) # tell 用来返回光标的位置，或者说是相对文件起始的偏移.\n",
    "file.close()"
   ]
  },
  {
   "cell_type": "code",
   "execution_count": 10,
   "metadata": {},
   "outputs": [
    {
     "name": "stdout",
     "output_type": "stream",
     "text": [
      "1\n",
      "0\n"
     ]
    }
   ],
   "source": [
    "file3 = open('file3.txt','w+')\n",
    "file3.write('c')\n",
    "print(file3.tell())\n",
    "file3.seek(0)\n",
    "print(file3.tell())\n",
    "file3.write('tool!')\n",
    "file3.close()"
   ]
  },
  {
   "cell_type": "code",
   "execution_count": 25,
   "metadata": {},
   "outputs": [
    {
     "name": "stdout",
     "output_type": "stream",
     "text": [
      "41\n",
      "35\n"
     ]
    }
   ],
   "source": [
    "file4 = open('file4.txt','w+')\n",
    "file4.write('congratulations, you mastered this skill!')\n",
    "print(file4.tell())\n",
    "file4.seek(35)\n",
    "print(file4.tell())\n",
    "file4.write('tool!')\n",
    "file4.close()"
   ]
  },
  {
   "cell_type": "markdown",
   "metadata": {},
   "source": [
    "### 数据序列化\n",
    "#### 使用 Pickle 和  JSON "
   ]
  },
  {
   "cell_type": "code",
   "execution_count": 5,
   "metadata": {},
   "outputs": [
    {
     "name": "stdout",
     "output_type": "stream",
     "text": [
      "{'Name': 'Steve Jobs', 'Birth Year': 1955, 'Company Owned': ['Apple', 'Pixar', 'NeXT']}\n",
      "<class 'dict'>\n"
     ]
    }
   ],
   "source": [
    "import json\n",
    "dict1 = {\n",
    "    'Name':'Steve Jobs',\n",
    "    'Birth Year':1955,\n",
    "    'Company Owned':[\n",
    "        'Apple',\n",
    "        'Pixar',\n",
    "        'NeXT'\n",
    "    ]\n",
    "}\n",
    "file = open('data.json','w+')\n",
    "#序列化\n",
    "json.dump(dict1,file)\n",
    "file.close()\n",
    "file = open('data.json','r+')\n",
    "#反序列化\n",
    "data = json.load(file)\n",
    "print(data)\n",
    "print(type(data))\n",
    "file.close()"
   ]
  },
  {
   "cell_type": "markdown",
   "metadata": {},
   "source": [
    "###  文件系统操作"
   ]
  },
  {
   "cell_type": "code",
   "execution_count": 7,
   "metadata": {},
   "outputs": [
    {
     "name": "stdout",
     "output_type": "stream",
     "text": [
      "['.ipynb_checkpoints', '20211003.txt', '9.15讲义.ipynb', '9.16讲义.ipynb', '9.23函数补充讲义.ipynb', '9.29案例赏析讲义.ipynb', 'data.json', 'file2.txt', 'file3.txt', 'file4.txt', '作业 9.16.ipynb', '异常.ipynb', '文件.ipynb', '正则表达式.ipynb', '讲义9.18.ipynb', '讲义9.23.ipynb']\n"
     ]
    }
   ],
   "source": [
    "import os\n",
    "print(os.listdir()) # 列出一个目录下的所有文件"
   ]
  },
  {
   "cell_type": "code",
   "execution_count": 9,
   "metadata": {},
   "outputs": [],
   "source": [
    "import os\n",
    "os.mkdir('rrrrr')"
   ]
  },
  {
   "cell_type": "code",
   "execution_count": 10,
   "metadata": {},
   "outputs": [],
   "source": [
    "import os\n",
    "os.rmdir('rrrrr')"
   ]
  },
  {
   "cell_type": "code",
   "execution_count": 11,
   "metadata": {},
   "outputs": [
    {
     "data": {
      "text/plain": [
       "False"
      ]
     },
     "execution_count": 11,
     "metadata": {},
     "output_type": "execute_result"
    }
   ],
   "source": [
    "import os\n",
    "os.path.exists('./path.py')"
   ]
  },
  {
   "cell_type": "markdown",
   "metadata": {},
   "source": [
    "### 作业\n",
    "#### 作业1.通过文件操作，写一个记录用户输入的小程序。"
   ]
  },
  {
   "cell_type": "markdown",
   "metadata": {},
   "source": [
    "#### 作业2.写一个给图片按照日期批量重命名的小程序。"
   ]
  }
 ],
 "metadata": {
  "kernelspec": {
   "display_name": "Python 3 (ipykernel)",
   "language": "python",
   "name": "python3"
  },
  "language_info": {
   "codemirror_mode": {
    "name": "ipython",
    "version": 3
   },
   "file_extension": ".py",
   "mimetype": "text/x-python",
   "name": "python",
   "nbconvert_exporter": "python",
   "pygments_lexer": "ipython3",
   "version": "3.9.5"
  }
 },
 "nbformat": 4,
 "nbformat_minor": 4
}
